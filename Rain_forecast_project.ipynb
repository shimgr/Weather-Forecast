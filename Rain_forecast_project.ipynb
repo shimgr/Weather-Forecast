{
 "cells": [
  {
   "cell_type": "code",
   "execution_count": 285,
   "id": "fe2a8d19",
   "metadata": {},
   "outputs": [],
   "source": [
    "import numpy as np\n",
    "import pandas as pd\n",
    "import matplotlib.pyplot as plt\n",
    "import seaborn as sns\n",
    "import warnings\n",
    "warnings.filterwarnings(\"ignore\")\n",
    "from sklearn.metrics import precision_score"
   ]
  },
  {
   "cell_type": "markdown",
   "id": "12527bea",
   "metadata": {},
   "source": [
    "### This below dataset contains about 10 years of daily weather observations from many locations across Australia & based on this data we have to predict that whther it will rain or not tomorrow?"
   ]
  },
  {
   "cell_type": "code",
   "execution_count": 286,
   "id": "48111bc6",
   "metadata": {},
   "outputs": [],
   "source": [
    "#Loading the training dataset\n",
    "w_train = pd.read_csv('weatherAUS_train.csv')"
   ]
  },
  {
   "cell_type": "code",
   "execution_count": 287,
   "id": "655277af",
   "metadata": {},
   "outputs": [
    {
     "data": {
      "text/html": [
       "<div>\n",
       "<style scoped>\n",
       "    .dataframe tbody tr th:only-of-type {\n",
       "        vertical-align: middle;\n",
       "    }\n",
       "\n",
       "    .dataframe tbody tr th {\n",
       "        vertical-align: top;\n",
       "    }\n",
       "\n",
       "    .dataframe thead th {\n",
       "        text-align: right;\n",
       "    }\n",
       "</style>\n",
       "<table border=\"1\" class=\"dataframe\">\n",
       "  <thead>\n",
       "    <tr style=\"text-align: right;\">\n",
       "      <th></th>\n",
       "      <th>Date</th>\n",
       "      <th>Location</th>\n",
       "      <th>MinTemp</th>\n",
       "      <th>MaxTemp</th>\n",
       "      <th>Rainfall</th>\n",
       "      <th>Evaporation</th>\n",
       "      <th>Sunshine</th>\n",
       "      <th>WindGustDir</th>\n",
       "      <th>WindGustSpeed</th>\n",
       "      <th>WindDir9am</th>\n",
       "      <th>...</th>\n",
       "      <th>Humidity9am</th>\n",
       "      <th>Humidity3pm</th>\n",
       "      <th>Pressure9am</th>\n",
       "      <th>Pressure3pm</th>\n",
       "      <th>Cloud9am</th>\n",
       "      <th>Cloud3pm</th>\n",
       "      <th>Temp9am</th>\n",
       "      <th>Temp3pm</th>\n",
       "      <th>RainToday</th>\n",
       "      <th>RainTomorrow</th>\n",
       "    </tr>\n",
       "  </thead>\n",
       "  <tbody>\n",
       "    <tr>\n",
       "      <th>0</th>\n",
       "      <td>2013-07-22</td>\n",
       "      <td>Sydney</td>\n",
       "      <td>8.7</td>\n",
       "      <td>17.2</td>\n",
       "      <td>0.0</td>\n",
       "      <td>3.8</td>\n",
       "      <td>9.9</td>\n",
       "      <td>WNW</td>\n",
       "      <td>54.0</td>\n",
       "      <td>WNW</td>\n",
       "      <td>...</td>\n",
       "      <td>54.0</td>\n",
       "      <td>28.0</td>\n",
       "      <td>1019.4</td>\n",
       "      <td>1016.3</td>\n",
       "      <td>2.0</td>\n",
       "      <td>2.0</td>\n",
       "      <td>12.2</td>\n",
       "      <td>16.6</td>\n",
       "      <td>No</td>\n",
       "      <td>0</td>\n",
       "    </tr>\n",
       "    <tr>\n",
       "      <th>1</th>\n",
       "      <td>2015-02-28</td>\n",
       "      <td>Sale</td>\n",
       "      <td>15.4</td>\n",
       "      <td>25.7</td>\n",
       "      <td>0.0</td>\n",
       "      <td>NaN</td>\n",
       "      <td>NaN</td>\n",
       "      <td>W</td>\n",
       "      <td>67.0</td>\n",
       "      <td>NNE</td>\n",
       "      <td>...</td>\n",
       "      <td>84.0</td>\n",
       "      <td>66.0</td>\n",
       "      <td>1008.1</td>\n",
       "      <td>1005.1</td>\n",
       "      <td>8.0</td>\n",
       "      <td>8.0</td>\n",
       "      <td>18.8</td>\n",
       "      <td>24.3</td>\n",
       "      <td>No</td>\n",
       "      <td>1</td>\n",
       "    </tr>\n",
       "    <tr>\n",
       "      <th>2</th>\n",
       "      <td>2009-11-18</td>\n",
       "      <td>PerthAirport</td>\n",
       "      <td>15.2</td>\n",
       "      <td>22.2</td>\n",
       "      <td>7.2</td>\n",
       "      <td>5.2</td>\n",
       "      <td>3.3</td>\n",
       "      <td>NW</td>\n",
       "      <td>78.0</td>\n",
       "      <td>NW</td>\n",
       "      <td>...</td>\n",
       "      <td>68.0</td>\n",
       "      <td>91.0</td>\n",
       "      <td>1001.5</td>\n",
       "      <td>1000.1</td>\n",
       "      <td>7.0</td>\n",
       "      <td>8.0</td>\n",
       "      <td>20.1</td>\n",
       "      <td>16.5</td>\n",
       "      <td>Yes</td>\n",
       "      <td>1</td>\n",
       "    </tr>\n",
       "    <tr>\n",
       "      <th>3</th>\n",
       "      <td>2014-02-19</td>\n",
       "      <td>Richmond</td>\n",
       "      <td>19.9</td>\n",
       "      <td>26.4</td>\n",
       "      <td>0.0</td>\n",
       "      <td>2.8</td>\n",
       "      <td>NaN</td>\n",
       "      <td>SW</td>\n",
       "      <td>24.0</td>\n",
       "      <td>NNE</td>\n",
       "      <td>...</td>\n",
       "      <td>97.0</td>\n",
       "      <td>97.0</td>\n",
       "      <td>1004.6</td>\n",
       "      <td>1002.1</td>\n",
       "      <td>NaN</td>\n",
       "      <td>NaN</td>\n",
       "      <td>22.6</td>\n",
       "      <td>22.3</td>\n",
       "      <td>No</td>\n",
       "      <td>1</td>\n",
       "    </tr>\n",
       "    <tr>\n",
       "      <th>4</th>\n",
       "      <td>2015-10-04</td>\n",
       "      <td>Wollongong</td>\n",
       "      <td>19.3</td>\n",
       "      <td>32.9</td>\n",
       "      <td>0.0</td>\n",
       "      <td>NaN</td>\n",
       "      <td>NaN</td>\n",
       "      <td>W</td>\n",
       "      <td>48.0</td>\n",
       "      <td>NNW</td>\n",
       "      <td>...</td>\n",
       "      <td>46.0</td>\n",
       "      <td>15.0</td>\n",
       "      <td>1022.8</td>\n",
       "      <td>1020.7</td>\n",
       "      <td>NaN</td>\n",
       "      <td>NaN</td>\n",
       "      <td>22.1</td>\n",
       "      <td>32.6</td>\n",
       "      <td>No</td>\n",
       "      <td>0</td>\n",
       "    </tr>\n",
       "  </tbody>\n",
       "</table>\n",
       "<p>5 rows × 23 columns</p>\n",
       "</div>"
      ],
      "text/plain": [
       "         Date      Location  MinTemp  MaxTemp  Rainfall  Evaporation  \\\n",
       "0  2013-07-22        Sydney      8.7     17.2       0.0          3.8   \n",
       "1  2015-02-28          Sale     15.4     25.7       0.0          NaN   \n",
       "2  2009-11-18  PerthAirport     15.2     22.2       7.2          5.2   \n",
       "3  2014-02-19      Richmond     19.9     26.4       0.0          2.8   \n",
       "4  2015-10-04    Wollongong     19.3     32.9       0.0          NaN   \n",
       "\n",
       "   Sunshine WindGustDir  WindGustSpeed WindDir9am  ... Humidity9am  \\\n",
       "0       9.9         WNW           54.0        WNW  ...        54.0   \n",
       "1       NaN           W           67.0        NNE  ...        84.0   \n",
       "2       3.3          NW           78.0         NW  ...        68.0   \n",
       "3       NaN          SW           24.0        NNE  ...        97.0   \n",
       "4       NaN           W           48.0        NNW  ...        46.0   \n",
       "\n",
       "   Humidity3pm  Pressure9am  Pressure3pm  Cloud9am  Cloud3pm  Temp9am  \\\n",
       "0         28.0       1019.4       1016.3       2.0       2.0     12.2   \n",
       "1         66.0       1008.1       1005.1       8.0       8.0     18.8   \n",
       "2         91.0       1001.5       1000.1       7.0       8.0     20.1   \n",
       "3         97.0       1004.6       1002.1       NaN       NaN     22.6   \n",
       "4         15.0       1022.8       1020.7       NaN       NaN     22.1   \n",
       "\n",
       "   Temp3pm  RainToday  RainTomorrow  \n",
       "0     16.6         No             0  \n",
       "1     24.3         No             1  \n",
       "2     16.5        Yes             1  \n",
       "3     22.3         No             1  \n",
       "4     32.6         No             0  \n",
       "\n",
       "[5 rows x 23 columns]"
      ]
     },
     "execution_count": 287,
     "metadata": {},
     "output_type": "execute_result"
    }
   ],
   "source": [
    "#Overview of training dataset\n",
    "w_train.head()"
   ]
  },
  {
   "cell_type": "markdown",
   "id": "7d8c939f",
   "metadata": {},
   "source": [
    "Questions:\n",
    "1) # of observations & columns in dataset?\n",
    "\n",
    "2) Type of columns & their description?\n",
    "\n",
    "3) To check for null/missing values & duplicates?"
   ]
  },
  {
   "cell_type": "code",
   "execution_count": 288,
   "id": "0f226f70",
   "metadata": {},
   "outputs": [
    {
     "data": {
      "text/plain": [
       "101822"
      ]
     },
     "execution_count": 288,
     "metadata": {},
     "output_type": "execute_result"
    }
   ],
   "source": [
    "#get the total no of observations\n",
    "len(w_train)"
   ]
  },
  {
   "cell_type": "code",
   "execution_count": 289,
   "id": "7b4778eb",
   "metadata": {},
   "outputs": [
    {
     "name": "stdout",
     "output_type": "stream",
     "text": [
      "<class 'pandas.core.frame.DataFrame'>\n",
      "RangeIndex: 101822 entries, 0 to 101821\n",
      "Data columns (total 23 columns):\n",
      " #   Column         Non-Null Count   Dtype  \n",
      "---  ------         --------------   -----  \n",
      " 0   Date           101822 non-null  object \n",
      " 1   Location       101822 non-null  object \n",
      " 2   MinTemp        100795 non-null  float64\n",
      " 3   MaxTemp        100947 non-null  float64\n",
      " 4   Rainfall       99522 non-null   float64\n",
      " 5   Evaporation    57933 non-null   float64\n",
      " 6   Sunshine       53022 non-null   float64\n",
      " 7   WindGustDir    94504 non-null   object \n",
      " 8   WindGustSpeed  94550 non-null   float64\n",
      " 9   WindDir9am     94431 non-null   object \n",
      " 10  WindDir3pm     98836 non-null   object \n",
      " 11  WindSpeed9am   100550 non-null  float64\n",
      " 12  WindSpeed3pm   99663 non-null   float64\n",
      " 13  Humidity9am    99968 non-null   float64\n",
      " 14  Humidity3pm    98662 non-null   float64\n",
      " 15  Pressure9am    91268 non-null   float64\n",
      " 16  Pressure3pm    91304 non-null   float64\n",
      " 17  Cloud9am       62833 non-null   float64\n",
      " 18  Cloud3pm       60402 non-null   float64\n",
      " 19  Temp9am        100596 non-null  float64\n",
      " 20  Temp3pm        99304 non-null   float64\n",
      " 21  RainToday      99522 non-null   object \n",
      " 22  RainTomorrow   101822 non-null  int64  \n",
      "dtypes: float64(16), int64(1), object(6)\n",
      "memory usage: 17.9+ MB\n"
     ]
    }
   ],
   "source": [
    "#to know the column datatypes\n",
    "w_train.info()"
   ]
  },
  {
   "cell_type": "code",
   "execution_count": 290,
   "id": "0fe4f870",
   "metadata": {},
   "outputs": [
    {
     "data": {
      "text/plain": [
       "Date             3408\n",
       "Location           49\n",
       "MinTemp           384\n",
       "MaxTemp           497\n",
       "Rainfall          597\n",
       "Evaporation       320\n",
       "Sunshine          144\n",
       "WindGustDir        16\n",
       "WindGustSpeed      66\n",
       "WindDir9am         16\n",
       "WindDir3pm         16\n",
       "WindSpeed9am       43\n",
       "WindSpeed3pm       43\n",
       "Humidity9am       100\n",
       "Humidity3pm       101\n",
       "Pressure9am       540\n",
       "Pressure3pm       532\n",
       "Cloud9am           10\n",
       "Cloud3pm           10\n",
       "Temp9am           432\n",
       "Temp3pm           496\n",
       "RainToday           2\n",
       "RainTomorrow        2\n",
       "dtype: int64"
      ]
     },
     "execution_count": 290,
     "metadata": {},
     "output_type": "execute_result"
    }
   ],
   "source": [
    "#to check unique values\n",
    "w_train.nunique()"
   ]
  },
  {
   "cell_type": "code",
   "execution_count": 291,
   "id": "9677e438",
   "metadata": {},
   "outputs": [
    {
     "data": {
      "text/plain": [
       "min    2007-11-01\n",
       "max    2017-06-25\n",
       "Name: Date, dtype: object"
      ]
     },
     "execution_count": 291,
     "metadata": {},
     "output_type": "execute_result"
    }
   ],
   "source": [
    "# check the min & max date\n",
    "w_train['Date'].agg (['min', 'max'])"
   ]
  },
  {
   "cell_type": "code",
   "execution_count": 292,
   "id": "68551a3e",
   "metadata": {},
   "outputs": [
    {
     "data": {
      "text/plain": [
       "0"
      ]
     },
     "execution_count": 292,
     "metadata": {},
     "output_type": "execute_result"
    }
   ],
   "source": [
    "# check for duplicacy for dates\n",
    "w_train[['Date','Location']].duplicated().sum()"
   ]
  },
  {
   "cell_type": "markdown",
   "id": "24b65719",
   "metadata": {},
   "source": [
    "### No of Observations in dataset:\n",
    "\n",
    "1) There are total 101822 no of observations & 23 columns."
   ]
  },
  {
   "cell_type": "markdown",
   "id": "1b9ce1e9",
   "metadata": {},
   "source": [
    "### Columns Description:\n",
    "\n",
    "1) Date (object-date_type) ---> contains the dates for the period from 1st-Nov-2007 to 25th-Jun-2017 (10 years).\n",
    "\n",
    "2) Location (object) ---> specify the name of location of a particular weather station.\n",
    "\n",
    "3) Min Temp (num) ---> The minimum temperature in degrees celsius on that particular date/day\n",
    "\n",
    "4) Max Temp (num) ---> The maximum temperature in degrees celsius on that particular date/day\n",
    "\n",
    "5) Rainfall (num) ---> The amount of rainfall recorded for the day in mm.\n",
    "\n",
    "6) Evaporation (num) ---> Gives the Class A pan evaporation (mm) in the 24 hours duration (to 9am).\n",
    "\n",
    "7) Sunshine (num) ---> No of hr for a bright sunlight in a day.\n",
    "\n",
    "8) WindGustDir (obj) ---> The direction of the strongest wind gust in the 24 hours to midnight.\n",
    "\n",
    "9) WindGustSpeed (num) ---> The speed (km/h) of the strongest wind gust in the 24 hours to midnight.\n",
    "\n",
    "10) WindDir9am (obj) ---> The direction of wind at 9am.\n",
    "\n",
    "11) WindDir3pm (obj) ---> The direction of wind at 3pm.\n",
    "\n",
    "12) WindSpeed9am (num) ---> The speed of wind(km/hr) at 9am.\n",
    "\n",
    "13) WindSpeed3pm (num) ---> The speed of wind(km/hr) at 3pm.\n",
    "\n",
    "14) Humidity9am (num)  ---> The Humidity in percent at 9am.\n",
    "\n",
    "15) Humidity3pm (num) ---> The Humidity in percent at 3pm.\n",
    "\n",
    "16) Pressure9am (num) ---> Atmospheric pressure (hpa) reduced to mean sea level at 9am.\n",
    "\n",
    "17) Pressure3pm (num) ---> Atmospheric pressure (hpa) reduced to mean sea level at 3pm.\n",
    "\n",
    "18) Cloud9am (num)  ---> Fraction of sky obscured by cloud at 9am. This is measured in \"oktas\". An okta is a unit of measurement used to describe the amount of cloud cover at any given location such as a weather station.\n",
    "\n",
    "19) Cloud3pm (num) ---> Fraction of sky on=bscure by cloud at 3 pm.\n",
    "\n",
    "20) Temp9am (num) ---> Temperature (degrees C) at 9am.\n",
    "\n",
    "21) Temp3pm (num) ---> Temperature (degrees C) at 3pm.\n",
    "\n",
    "22) RainToday (Boolean-Yes/No) ---> Yes if precipitation (mm) in the 24 hours to 9am exceeds 1mm, otherwise No\n",
    "\n",
    "23) RainTomorrow (Boolean) ---> 1 if precipitation (mm) in the 24 hours to 9am exceeds 1mm, otherwise 0."
   ]
  },
  {
   "cell_type": "markdown",
   "id": "2d43f855",
   "metadata": {},
   "source": [
    "### Duplicacy"
   ]
  },
  {
   "cell_type": "code",
   "execution_count": 293,
   "id": "1a5df8fc",
   "metadata": {},
   "outputs": [
    {
     "data": {
      "text/plain": [
       "0"
      ]
     },
     "execution_count": 293,
     "metadata": {},
     "output_type": "execute_result"
    }
   ],
   "source": [
    "# check for duplicate values\n",
    "w_train.duplicated().sum()"
   ]
  },
  {
   "cell_type": "markdown",
   "id": "f1b4f461",
   "metadata": {},
   "source": [
    "There is no duplicate entries in the daatset."
   ]
  },
  {
   "cell_type": "markdown",
   "id": "86c3853b",
   "metadata": {},
   "source": [
    "### Null Values "
   ]
  },
  {
   "cell_type": "code",
   "execution_count": 294,
   "id": "3b0863f2",
   "metadata": {},
   "outputs": [
    {
     "data": {
      "image/png": "[encoded data removed]",
      "text/plain": [
       "<Figure size 1080x432 with 1 Axes>"
      ]
     },
     "metadata": {
      "needs_background": "light"
     },
     "output_type": "display_data"
    }
   ],
   "source": [
    "#Creating function for plotting % of null values:\n",
    "\n",
    "def plot_null_values(data: pd.DataFrame):\n",
    "    import matplotlib.pyplot as plt\n",
    "    if data.isnull().sum().sum() != 0:\n",
    "        Null_perc = (data.isnull().sum() / len(data)) * 100      \n",
    "        Null_perc = Null_perc.drop(Null_perc[Null_perc == 0].index).sort_values(ascending=False)\n",
    "        missing_data = pd.DataFrame({'Missing Ratio %' :Null_perc})\n",
    "        missing_data.plot(kind = \"barh\", figsize=(15,6), color='orangered')\n",
    "        plt.show()\n",
    "    else:\n",
    "        print('No NAs/Null Values found')\n",
    "plot_null_values(w_train)"
   ]
  },
  {
   "cell_type": "markdown",
   "id": "71d69d59",
   "metadata": {},
   "source": [
    "THere are lot of null values in our datset & some variables contains more than 30% of null values."
   ]
  },
  {
   "cell_type": "markdown",
   "id": "1762b4d7",
   "metadata": {},
   "source": [
    "As there are lot of null values in our dataset. We have to treat them as internal working of machine learning algorithms breaks down due to null or missing data.\n",
    "One has to be carefull as treating null vlaues is a tricker task & one may loose important information ot introduce bias in the model."
   ]
  },
  {
   "cell_type": "markdown",
   "id": "71becc92",
   "metadata": {},
   "source": [
    "#### There are multiple ways to treat the null values. Some of them which are commonly use are:\n",
    "1) Deletion of data: \n",
    "   - Row Deletion-->If a particular observation contains more null values (high no of features as null vlaues), it's better     to delete it as it won't be able to learn/draw any specific insight from it.\n",
    "   - Column Deletion--> If a column/feature contains generally more than 60% null vlaues, drop it.\n",
    "   \n",
    "2) Imputation of data: means trying to find a suitable substitute for missing data. Deletion of missing data might lead to loss of information if it is a critical feature or data set itself is very small. \n",
    "- Imputation can be done using:\n",
    "    - mean (for symmetrical data)\n",
    "    - median (for skewed data)\n",
    "    - mode (for categorical/Discrete data)\n",
    "    - Specific Value/one-hot encoding (for large # of missing values)\n",
    "\n",
    "3) Predicting missing values: In this method we try to apply regression or classification techniques to come up with educated guesses of possible outcome to replace missing value. We have to be careful about not adding any extra bias from our predictive model itsel."
   ]
  },
  {
   "cell_type": "code",
   "execution_count": 295,
   "id": "a4c1fa1b",
   "metadata": {},
   "outputs": [
    {
     "data": {
      "text/plain": [
       "101822"
      ]
     },
     "execution_count": 295,
     "metadata": {},
     "output_type": "execute_result"
    }
   ],
   "source": [
    "#Dropping null rows if all the columns are Null\n",
    "w_train = w_train.dropna(axis=0,how='all')\n",
    "len(w_train)"
   ]
  },
  {
   "cell_type": "code",
   "execution_count": 296,
   "id": "c38b3a85",
   "metadata": {},
   "outputs": [
    {
     "data": {
      "text/plain": [
       "99643"
      ]
     },
     "execution_count": 296,
     "metadata": {},
     "output_type": "execute_result"
    }
   ],
   "source": [
    "#Dropping the rows if any row contain than more than 60% null values\n",
    "w_train = w_train.dropna(axis=0,thresh=14)\n",
    "len(w_train)"
   ]
  },
  {
   "cell_type": "code",
   "execution_count": 297,
   "id": "d952f648",
   "metadata": {},
   "outputs": [
    {
     "data": {
      "text/plain": [
       "99578"
      ]
     },
     "execution_count": 297,
     "metadata": {},
     "output_type": "execute_result"
    }
   ],
   "source": [
    "#Dropping rows as per below condition \n",
    "# if we have all the wind details missing\n",
    "w_train = w_train.loc[w_train.WindGustSpeed.notnull() | w_train.WindSpeed9am.notnull() | w_train.WindSpeed3pm.notnull()]\n",
    "len(w_train)\n"
   ]
  },
  {
   "cell_type": "code",
   "execution_count": 298,
   "id": "09ac7ed6",
   "metadata": {},
   "outputs": [
    {
     "data": {
      "text/plain": [
       "99343"
      ]
     },
     "execution_count": 298,
     "metadata": {},
     "output_type": "execute_result"
    }
   ],
   "source": [
    "#Dropping rows as per below condition \n",
    "# if we have all the wind direction details missing\n",
    "w_train = w_train.loc[w_train.WindGustDir.notnull() | w_train.WindDir9am.notnull() | w_train.WindDir3pm.notnull()]\n",
    "len(w_train)"
   ]
  },
  {
   "cell_type": "code",
   "execution_count": 299,
   "id": "22f04c29",
   "metadata": {},
   "outputs": [
    {
     "data": {
      "image/png": "[encoded data removed]",
      "text/plain": [
       "<Figure size 1080x432 with 1 Axes>"
      ]
     },
     "metadata": {
      "needs_background": "light"
     },
     "output_type": "display_data"
    }
   ],
   "source": [
    "plot_null_values(w_train)"
   ]
  },
  {
   "cell_type": "code",
   "execution_count": 300,
   "id": "201f2485",
   "metadata": {},
   "outputs": [
    {
     "data": {
      "text/html": [
       "<div>\n",
       "<style scoped>\n",
       "    .dataframe tbody tr th:only-of-type {\n",
       "        vertical-align: middle;\n",
       "    }\n",
       "\n",
       "    .dataframe tbody tr th {\n",
       "        vertical-align: top;\n",
       "    }\n",
       "\n",
       "    .dataframe thead th {\n",
       "        text-align: right;\n",
       "    }\n",
       "</style>\n",
       "<table border=\"1\" class=\"dataframe\">\n",
       "  <thead>\n",
       "    <tr style=\"text-align: right;\">\n",
       "      <th></th>\n",
       "      <th>MinTemp</th>\n",
       "      <th>MaxTemp</th>\n",
       "      <th>Rainfall</th>\n",
       "      <th>Evaporation</th>\n",
       "      <th>Sunshine</th>\n",
       "      <th>WindGustSpeed</th>\n",
       "      <th>WindSpeed9am</th>\n",
       "      <th>WindSpeed3pm</th>\n",
       "      <th>Humidity9am</th>\n",
       "      <th>Humidity3pm</th>\n",
       "      <th>Pressure9am</th>\n",
       "      <th>Pressure3pm</th>\n",
       "      <th>Cloud9am</th>\n",
       "      <th>Cloud3pm</th>\n",
       "      <th>Temp9am</th>\n",
       "      <th>Temp3pm</th>\n",
       "      <th>RainTomorrow</th>\n",
       "    </tr>\n",
       "  </thead>\n",
       "  <tbody>\n",
       "    <tr>\n",
       "      <th>count</th>\n",
       "      <td>99162.000000</td>\n",
       "      <td>99163.000000</td>\n",
       "      <td>97853.000000</td>\n",
       "      <td>57268.000000</td>\n",
       "      <td>52541.000000</td>\n",
       "      <td>93907.000000</td>\n",
       "      <td>99189.000000</td>\n",
       "      <td>98763.000000</td>\n",
       "      <td>98546.000000</td>\n",
       "      <td>97694.000000</td>\n",
       "      <td>90948.000000</td>\n",
       "      <td>90934.000000</td>\n",
       "      <td>61970.000000</td>\n",
       "      <td>60077.000000</td>\n",
       "      <td>99124.000000</td>\n",
       "      <td>98296.000000</td>\n",
       "      <td>99343.000000</td>\n",
       "    </tr>\n",
       "    <tr>\n",
       "      <th>mean</th>\n",
       "      <td>12.220927</td>\n",
       "      <td>23.251681</td>\n",
       "      <td>2.315653</td>\n",
       "      <td>5.469940</td>\n",
       "      <td>7.613412</td>\n",
       "      <td>40.007699</td>\n",
       "      <td>14.106514</td>\n",
       "      <td>18.709810</td>\n",
       "      <td>68.841658</td>\n",
       "      <td>51.495865</td>\n",
       "      <td>1017.648748</td>\n",
       "      <td>1015.257819</td>\n",
       "      <td>4.445990</td>\n",
       "      <td>4.507965</td>\n",
       "      <td>17.000357</td>\n",
       "      <td>21.699489</td>\n",
       "      <td>0.219512</td>\n",
       "    </tr>\n",
       "    <tr>\n",
       "      <th>std</th>\n",
       "      <td>6.387130</td>\n",
       "      <td>7.090323</td>\n",
       "      <td>8.150584</td>\n",
       "      <td>4.196556</td>\n",
       "      <td>3.769893</td>\n",
       "      <td>13.574158</td>\n",
       "      <td>8.855668</td>\n",
       "      <td>8.773456</td>\n",
       "      <td>19.003819</td>\n",
       "      <td>20.754798</td>\n",
       "      <td>7.121490</td>\n",
       "      <td>7.045064</td>\n",
       "      <td>2.882218</td>\n",
       "      <td>2.717279</td>\n",
       "      <td>6.486712</td>\n",
       "      <td>6.924716</td>\n",
       "      <td>0.413918</td>\n",
       "    </tr>\n",
       "    <tr>\n",
       "      <th>min</th>\n",
       "      <td>-8.500000</td>\n",
       "      <td>-4.800000</td>\n",
       "      <td>0.000000</td>\n",
       "      <td>0.000000</td>\n",
       "      <td>0.000000</td>\n",
       "      <td>7.000000</td>\n",
       "      <td>0.000000</td>\n",
       "      <td>0.000000</td>\n",
       "      <td>1.000000</td>\n",
       "      <td>0.000000</td>\n",
       "      <td>980.500000</td>\n",
       "      <td>977.100000</td>\n",
       "      <td>0.000000</td>\n",
       "      <td>0.000000</td>\n",
       "      <td>-7.200000</td>\n",
       "      <td>-5.400000</td>\n",
       "      <td>0.000000</td>\n",
       "    </tr>\n",
       "    <tr>\n",
       "      <th>25%</th>\n",
       "      <td>7.600000</td>\n",
       "      <td>17.900000</td>\n",
       "      <td>0.000000</td>\n",
       "      <td>2.600000</td>\n",
       "      <td>4.900000</td>\n",
       "      <td>31.000000</td>\n",
       "      <td>7.000000</td>\n",
       "      <td>13.000000</td>\n",
       "      <td>57.000000</td>\n",
       "      <td>37.000000</td>\n",
       "      <td>1012.900000</td>\n",
       "      <td>1010.400000</td>\n",
       "      <td>1.000000</td>\n",
       "      <td>2.000000</td>\n",
       "      <td>12.300000</td>\n",
       "      <td>16.600000</td>\n",
       "      <td>0.000000</td>\n",
       "    </tr>\n",
       "    <tr>\n",
       "      <th>50%</th>\n",
       "      <td>12.000000</td>\n",
       "      <td>22.600000</td>\n",
       "      <td>0.000000</td>\n",
       "      <td>4.800000</td>\n",
       "      <td>8.400000</td>\n",
       "      <td>39.000000</td>\n",
       "      <td>13.000000</td>\n",
       "      <td>19.000000</td>\n",
       "      <td>70.000000</td>\n",
       "      <td>52.000000</td>\n",
       "      <td>1017.600000</td>\n",
       "      <td>1015.200000</td>\n",
       "      <td>5.000000</td>\n",
       "      <td>5.000000</td>\n",
       "      <td>16.700000</td>\n",
       "      <td>21.100000</td>\n",
       "      <td>0.000000</td>\n",
       "    </tr>\n",
       "    <tr>\n",
       "      <th>75%</th>\n",
       "      <td>16.900000</td>\n",
       "      <td>28.300000</td>\n",
       "      <td>0.800000</td>\n",
       "      <td>7.400000</td>\n",
       "      <td>10.600000</td>\n",
       "      <td>48.000000</td>\n",
       "      <td>19.000000</td>\n",
       "      <td>24.000000</td>\n",
       "      <td>83.000000</td>\n",
       "      <td>66.000000</td>\n",
       "      <td>1022.400000</td>\n",
       "      <td>1020.000000</td>\n",
       "      <td>7.000000</td>\n",
       "      <td>7.000000</td>\n",
       "      <td>21.600000</td>\n",
       "      <td>26.500000</td>\n",
       "      <td>0.000000</td>\n",
       "    </tr>\n",
       "    <tr>\n",
       "      <th>max</th>\n",
       "      <td>31.900000</td>\n",
       "      <td>48.100000</td>\n",
       "      <td>367.600000</td>\n",
       "      <td>145.000000</td>\n",
       "      <td>14.300000</td>\n",
       "      <td>135.000000</td>\n",
       "      <td>87.000000</td>\n",
       "      <td>87.000000</td>\n",
       "      <td>100.000000</td>\n",
       "      <td>100.000000</td>\n",
       "      <td>1041.000000</td>\n",
       "      <td>1038.500000</td>\n",
       "      <td>9.000000</td>\n",
       "      <td>9.000000</td>\n",
       "      <td>39.400000</td>\n",
       "      <td>46.100000</td>\n",
       "      <td>1.000000</td>\n",
       "    </tr>\n",
       "  </tbody>\n",
       "</table>\n",
       "</div>"
      ],
      "text/plain": [
       "            MinTemp       MaxTemp      Rainfall   Evaporation      Sunshine  \\\n",
       "count  99162.000000  99163.000000  97853.000000  57268.000000  52541.000000   \n",
       "mean      12.220927     23.251681      2.315653      5.469940      7.613412   \n",
       "std        6.387130      7.090323      8.150584      4.196556      3.769893   \n",
       "min       -8.500000     -4.800000      0.000000      0.000000      0.000000   \n",
       "25%        7.600000     17.900000      0.000000      2.600000      4.900000   \n",
       "50%       12.000000     22.600000      0.000000      4.800000      8.400000   \n",
       "75%       16.900000     28.300000      0.800000      7.400000     10.600000   \n",
       "max       31.900000     48.100000    367.600000    145.000000     14.300000   \n",
       "\n",
       "       WindGustSpeed  WindSpeed9am  WindSpeed3pm   Humidity9am   Humidity3pm  \\\n",
       "count   93907.000000  99189.000000  98763.000000  98546.000000  97694.000000   \n",
       "mean       40.007699     14.106514     18.709810     68.841658     51.495865   \n",
       "std        13.574158      8.855668      8.773456     19.003819     20.754798   \n",
       "min         7.000000      0.000000      0.000000      1.000000      0.000000   \n",
       "25%        31.000000      7.000000     13.000000     57.000000     37.000000   \n",
       "50%        39.000000     13.000000     19.000000     70.000000     52.000000   \n",
       "75%        48.000000     19.000000     24.000000     83.000000     66.000000   \n",
       "max       135.000000     87.000000     87.000000    100.000000    100.000000   \n",
       "\n",
       "        Pressure9am   Pressure3pm      Cloud9am      Cloud3pm       Temp9am  \\\n",
       "count  90948.000000  90934.000000  61970.000000  60077.000000  99124.000000   \n",
       "mean    1017.648748   1015.257819      4.445990      4.507965     17.000357   \n",
       "std        7.121490      7.045064      2.882218      2.717279      6.486712   \n",
       "min      980.500000    977.100000      0.000000      0.000000     -7.200000   \n",
       "25%     1012.900000   1010.400000      1.000000      2.000000     12.300000   \n",
       "50%     1017.600000   1015.200000      5.000000      5.000000     16.700000   \n",
       "75%     1022.400000   1020.000000      7.000000      7.000000     21.600000   \n",
       "max     1041.000000   1038.500000      9.000000      9.000000     39.400000   \n",
       "\n",
       "            Temp3pm  RainTomorrow  \n",
       "count  98296.000000  99343.000000  \n",
       "mean      21.699489      0.219512  \n",
       "std        6.924716      0.413918  \n",
       "min       -5.400000      0.000000  \n",
       "25%       16.600000      0.000000  \n",
       "50%       21.100000      0.000000  \n",
       "75%       26.500000      0.000000  \n",
       "max       46.100000      1.000000  "
      ]
     },
     "execution_count": 300,
     "metadata": {},
     "output_type": "execute_result"
    }
   ],
   "source": [
    "w_train.describe()"
   ]
  },
  {
   "cell_type": "markdown",
   "id": "13648596",
   "metadata": {},
   "source": [
    "#### Treating Null values"
   ]
  },
  {
   "cell_type": "code",
   "execution_count": 301,
   "id": "eff7a3ae",
   "metadata": {},
   "outputs": [
    {
     "data": {
      "text/plain": [
       "Date                 0\n",
       "Location             0\n",
       "MinTemp            181\n",
       "MaxTemp            180\n",
       "Rainfall          1490\n",
       "Evaporation      42075\n",
       "Sunshine         46802\n",
       "WindGustDir       5448\n",
       "WindGustSpeed     5436\n",
       "WindDir9am        5772\n",
       "WindDir3pm        1183\n",
       "WindSpeed9am       154\n",
       "WindSpeed3pm       580\n",
       "Humidity9am        797\n",
       "Humidity3pm       1649\n",
       "Pressure9am       8395\n",
       "Pressure3pm       8409\n",
       "Cloud9am         37373\n",
       "Cloud3pm         39266\n",
       "Temp9am            219\n",
       "Temp3pm           1047\n",
       "RainToday         1490\n",
       "RainTomorrow         0\n",
       "dtype: int64"
      ]
     },
     "execution_count": 301,
     "metadata": {},
     "output_type": "execute_result"
    }
   ],
   "source": [
    "w_train.isna().sum()"
   ]
  },
  {
   "cell_type": "code",
   "execution_count": 302,
   "id": "a9dafd71",
   "metadata": {},
   "outputs": [
    {
     "data": {
      "text/plain": [
       "99343"
      ]
     },
     "execution_count": 302,
     "metadata": {},
     "output_type": "execute_result"
    }
   ],
   "source": [
    "len(w_train)"
   ]
  },
  {
   "cell_type": "code",
   "execution_count": 303,
   "id": "75e7c0be",
   "metadata": {},
   "outputs": [
    {
     "data": {
      "text/plain": [
       "Date                 0\n",
       "Location             0\n",
       "MinTemp            131\n",
       "MaxTemp            176\n",
       "Rainfall             0\n",
       "Evaporation      40858\n",
       "Sunshine         45781\n",
       "WindGustDir       5347\n",
       "WindGustSpeed     5335\n",
       "WindDir9am        5680\n",
       "WindDir3pm        1174\n",
       "WindSpeed9am       121\n",
       "WindSpeed3pm       577\n",
       "Humidity9am        772\n",
       "Humidity3pm       1639\n",
       "Pressure9am       8354\n",
       "Pressure3pm       8369\n",
       "Cloud9am         36360\n",
       "Cloud3pm         38306\n",
       "Temp9am            203\n",
       "Temp3pm           1046\n",
       "RainToday            0\n",
       "RainTomorrow         0\n",
       "dtype: int64"
      ]
     },
     "execution_count": 303,
     "metadata": {},
     "output_type": "execute_result"
    }
   ],
   "source": [
    "#Dropping Rain Today col null values\n",
    "w_train = w_train.loc[w_train.RainToday.notnull()]\n",
    "w_train.isna().sum()\n"
   ]
  },
  {
   "cell_type": "code",
   "execution_count": 304,
   "id": "6fc24fe8",
   "metadata": {},
   "outputs": [],
   "source": [
    "#Filling the missing values for categorical variables with mode\n",
    "w_train['WindDir9am'] = w_train['WindDir9am'].fillna(w_train['WindDir9am'].mode()[0])\n",
    "w_train['WindGustDir'] = w_train['WindGustDir'].fillna(w_train['WindGustDir'].mode()[0])\n",
    "w_train['WindDir3pm'] = w_train['WindDir3pm'].fillna(w_train['WindDir3pm'].mode()[0])"
   ]
  },
  {
   "cell_type": "code",
   "execution_count": 305,
   "id": "5524d699",
   "metadata": {},
   "outputs": [],
   "source": [
    "# Sorting the dataset based on location & date in ascending order\n",
    "# convert to date if it was in str format\n",
    "#data['Date'] = pd.to_datetime(data['Date'])\n",
    "w_train = w_train.sort_values(['Location', 'Date'], ascending=(True, True))\n"
   ]
  },
  {
   "cell_type": "code",
   "execution_count": 306,
   "id": "4cd9023e",
   "metadata": {},
   "outputs": [
    {
     "name": "stdout",
     "output_type": "stream",
     "text": [
      "<class 'pandas.core.frame.DataFrame'>\n",
      "Int64Index: 97853 entries, 8439 to 57458\n",
      "Data columns (total 23 columns):\n",
      " #   Column         Non-Null Count  Dtype  \n",
      "---  ------         --------------  -----  \n",
      " 0   Date           97853 non-null  object \n",
      " 1   Location       97853 non-null  object \n",
      " 2   MinTemp        97853 non-null  float64\n",
      " 3   MaxTemp        97853 non-null  float64\n",
      " 4   Rainfall       97853 non-null  float64\n",
      " 5   Evaporation    97853 non-null  float64\n",
      " 6   Sunshine       97853 non-null  float64\n",
      " 7   WindGustDir    97853 non-null  object \n",
      " 8   WindGustSpeed  97853 non-null  float64\n",
      " 9   WindDir9am     97853 non-null  object \n",
      " 10  WindDir3pm     97853 non-null  object \n",
      " 11  WindSpeed9am   97853 non-null  float64\n",
      " 12  WindSpeed3pm   97853 non-null  float64\n",
      " 13  Humidity9am    97853 non-null  float64\n",
      " 14  Humidity3pm    97853 non-null  float64\n",
      " 15  Pressure9am    97853 non-null  float64\n",
      " 16  Pressure3pm    97853 non-null  float64\n",
      " 17  Cloud9am       95711 non-null  float64\n",
      " 18  Cloud3pm       95711 non-null  float64\n",
      " 19  Temp9am        97853 non-null  float64\n",
      " 20  Temp3pm        97853 non-null  float64\n",
      " 21  RainToday      97853 non-null  object \n",
      " 22  RainTomorrow   97853 non-null  int64  \n",
      "dtypes: float64(16), int64(1), object(6)\n",
      "memory usage: 17.9+ MB\n",
      "None\n"
     ]
    }
   ],
   "source": [
    "# As it's a weather time series data it's better to fill the null values with the previous day values & \n",
    "#data doesn't change much in a day\n",
    "for columns in w_train:\n",
    "    w_train[columns] = w_train[columns].fillna(method = 'ffill')\n",
    "print(w_train.info())\n"
   ]
  },
  {
   "cell_type": "code",
   "execution_count": 307,
   "id": "e041f055",
   "metadata": {},
   "outputs": [
    {
     "name": "stdout",
     "output_type": "stream",
     "text": [
      "<class 'pandas.core.frame.DataFrame'>\n",
      "Int64Index: 97853 entries, 8439 to 57458\n",
      "Data columns (total 23 columns):\n",
      " #   Column         Non-Null Count  Dtype  \n",
      "---  ------         --------------  -----  \n",
      " 0   Date           97853 non-null  object \n",
      " 1   Location       97853 non-null  object \n",
      " 2   MinTemp        97853 non-null  float64\n",
      " 3   MaxTemp        97853 non-null  float64\n",
      " 4   Rainfall       97853 non-null  float64\n",
      " 5   Evaporation    97853 non-null  float64\n",
      " 6   Sunshine       97853 non-null  float64\n",
      " 7   WindGustDir    97853 non-null  object \n",
      " 8   WindGustSpeed  97853 non-null  float64\n",
      " 9   WindDir9am     97853 non-null  object \n",
      " 10  WindDir3pm     97853 non-null  object \n",
      " 11  WindSpeed9am   97853 non-null  float64\n",
      " 12  WindSpeed3pm   97853 non-null  float64\n",
      " 13  Humidity9am    97853 non-null  float64\n",
      " 14  Humidity3pm    97853 non-null  float64\n",
      " 15  Pressure9am    97853 non-null  float64\n",
      " 16  Pressure3pm    97853 non-null  float64\n",
      " 17  Cloud9am       97853 non-null  float64\n",
      " 18  Cloud3pm       97853 non-null  float64\n",
      " 19  Temp9am        97853 non-null  float64\n",
      " 20  Temp3pm        97853 non-null  float64\n",
      " 21  RainToday      97853 non-null  object \n",
      " 22  RainTomorrow   97853 non-null  int64  \n",
      "dtypes: float64(16), int64(1), object(6)\n",
      "memory usage: 17.9+ MB\n",
      "None\n"
     ]
    }
   ],
   "source": [
    "w_train['Cloud9am'] = w_train['Cloud9am'].fillna(w_train['Cloud9am'].mean())\n",
    "w_train['Cloud3pm'] = w_train['Cloud3pm'].fillna(w_train['Cloud3pm'].mean())\n",
    "print(w_train.info())"
   ]
  },
  {
   "cell_type": "markdown",
   "id": "13205722",
   "metadata": {},
   "source": [
    "##### Now we have treated all the null values in the dataset & this data can be used for further analytics"
   ]
  },
  {
   "cell_type": "code",
   "execution_count": 308,
   "id": "3e291a51",
   "metadata": {},
   "outputs": [],
   "source": [
    "#Changing RainToday data type to numeric\n",
    "w_train['RainToday'] = w_train['RainToday'].map({'Yes': 1, 'No': 0})"
   ]
  },
  {
   "cell_type": "markdown",
   "id": "1b7a8bf1",
   "metadata": {},
   "source": [
    "#### Assumptions\n",
    "1) For more cloud cover there are possibility of rain.\n",
    "\n",
    "2) High Temp will lead to high Evaporation & High Evaporation lead less humiidity.\n",
    "\n",
    "3) Temp should not have any significant effect on rainfall.\n",
    "\n",
    "4) Higher the rainfall today, more the chances of rain for tomorrow.\n",
    "\n",
    "5) Less Sunshine might lead to rainfall."
   ]
  },
  {
   "cell_type": "markdown",
   "id": "a2116e3e",
   "metadata": {},
   "source": [
    "#### To check the count of Rain yes & no for Today & tomorrow rainfall"
   ]
  },
  {
   "cell_type": "code",
   "execution_count": 309,
   "id": "3447ca92",
   "metadata": {},
   "outputs": [
    {
     "data": {
      "text/plain": [
       "0    76450\n",
       "1    21403\n",
       "Name: RainTomorrow, dtype: int64"
      ]
     },
     "execution_count": 309,
     "metadata": {},
     "output_type": "execute_result"
    }
   ],
   "source": [
    "w_train['RainTomorrow'].value_counts()\n",
    "\n",
    "#its a imbalanced data"
   ]
  },
  {
   "cell_type": "code",
   "execution_count": 310,
   "id": "e69980f1",
   "metadata": {},
   "outputs": [
    {
     "data": {
      "text/plain": [
       "<AxesSubplot:xlabel='RainTomorrow', ylabel='count'>"
      ]
     },
     "execution_count": 310,
     "metadata": {},
     "output_type": "execute_result"
    },
    {
     "data": {
      "image/png": "[encoded data removed]",
      "text/plain": [
       "<Figure size 432x288 with 2 Axes>"
      ]
     },
     "metadata": {
      "needs_background": "light"
     },
     "output_type": "display_data"
    }
   ],
   "source": [
    "fig,ax =plt.subplots(1,2)\n",
    "sns.countplot(data=w_train,x='RainToday',ax=ax[0])\n",
    "sns.countplot(data=w_train,x='RainTomorrow',ax=ax[1])"
   ]
  },
  {
   "cell_type": "markdown",
   "id": "0c14c6ef",
   "metadata": {},
   "source": [
    "The dataset is clearly imbalanced for response variable i.e. Rain Tomorrow:(0:77536 & 1:21807)"
   ]
  },
  {
   "cell_type": "markdown",
   "id": "f144332b",
   "metadata": {},
   "source": [
    "### This is clearly imbalanced dataset with a ratio of Yes:No as 20:80 approx"
   ]
  },
  {
   "cell_type": "markdown",
   "id": "c1bcc1d3",
   "metadata": {},
   "source": [
    "#### To check the count of Wind Direction Categorical data"
   ]
  },
  {
   "cell_type": "code",
   "execution_count": 311,
   "id": "f2ef1f4e",
   "metadata": {},
   "outputs": [
    {
     "data": {
      "text/plain": [
       "(N      13708\n",
       " SE      6412\n",
       " E       6318\n",
       " SSE     6237\n",
       " S       6023\n",
       " NW      5930\n",
       " W       5746\n",
       " SW      5672\n",
       " NNE     5496\n",
       " NNW     5467\n",
       " ESE     5328\n",
       " ENE     5325\n",
       " SSW     5188\n",
       " NE      5136\n",
       " WNW     5062\n",
       " WSW     4805\n",
       " Name: WindDir9am, dtype: int64,\n",
       " SE     8663\n",
       " W      6870\n",
       " S      6690\n",
       " WSW    6476\n",
       " SW     6416\n",
       " SSE    6388\n",
       " WNW    6131\n",
       " N      6016\n",
       " NW     5947\n",
       " ESE    5897\n",
       " E      5796\n",
       " NE     5722\n",
       " SSW    5573\n",
       " NNW    5398\n",
       " ENE    5332\n",
       " NNE    4538\n",
       " Name: WindDir3pm, dtype: int64,\n",
       " W      12178\n",
       " SE      6509\n",
       " N       6315\n",
       " E       6306\n",
       " SSE     6296\n",
       " WSW     6209\n",
       " S       6179\n",
       " SW      6093\n",
       " SSW     6009\n",
       " WNW     5665\n",
       " NW      5582\n",
       " ENE     5558\n",
       " ESE     5042\n",
       " NE      4885\n",
       " NNW     4541\n",
       " NNE     4486\n",
       " Name: WindGustDir, dtype: int64)"
      ]
     },
     "execution_count": 311,
     "metadata": {},
     "output_type": "execute_result"
    }
   ],
   "source": [
    "w_train['WindDir9am'].value_counts(),w_train['WindDir3pm'].value_counts(),w_train['WindGustDir'].value_counts()"
   ]
  },
  {
   "cell_type": "code",
   "execution_count": 312,
   "id": "cdcd9780",
   "metadata": {},
   "outputs": [
    {
     "data": {
      "image/png": "[encoded data removed]",
      "text/plain": [
       "<Figure size 432x288 with 3 Axes>"
      ]
     },
     "metadata": {
      "needs_background": "light"
     },
     "output_type": "display_data"
    }
   ],
   "source": [
    "fig, ax =plt.subplots(3,1)\n",
    "sns.countplot(data=w_train,x='WindDir9am',ax=ax[0])\n",
    "sns.countplot(data=w_train,x='WindDir3pm',ax=ax[1])\n",
    "sns.countplot(data=w_train,x='WindGustDir',ax=ax[2])\n",
    "fig.tight_layout()"
   ]
  },
  {
   "cell_type": "code",
   "execution_count": 313,
   "id": "36af77a7",
   "metadata": {},
   "outputs": [
    {
     "data": {
      "image/png": "[encoded data removed]",
      "text/plain": [
       "<Figure size 432x288 with 2 Axes>"
      ]
     },
     "metadata": {
      "needs_background": "light"
     },
     "output_type": "display_data"
    }
   ],
   "source": [
    "#Ploting cloud data\n",
    "fig,ax =plt.subplots(2,1)\n",
    "sns.countplot(data=w_train,x='Cloud9am',ax=ax[0])\n",
    "sns.countplot(data=w_train,x='Cloud3pm',ax=ax[1])\n",
    "fig.tight_layout()"
   ]
  },
  {
   "cell_type": "code",
   "execution_count": 314,
   "id": "32bd7174",
   "metadata": {},
   "outputs": [
    {
     "data": {
      "image/png": "[encoded data removed]",
      "text/plain": [
       "<Figure size 432x288 with 2 Axes>"
      ]
     },
     "metadata": {
      "needs_background": "light"
     },
     "output_type": "display_data"
    }
   ],
   "source": [
    "#Ploting min & max temp data\n",
    "fig,ax =plt.subplots(2,1)\n",
    "sns.boxplot(data=w_train,x='MinTemp',ax=ax[0],color='turquoise')\n",
    "sns.boxplot(data=w_train,x='MaxTemp',ax=ax[1],color='chocolate')\n",
    "fig.tight_layout()"
   ]
  },
  {
   "cell_type": "code",
   "execution_count": 315,
   "id": "a35aab6c",
   "metadata": {},
   "outputs": [
    {
     "data": {
      "image/png": "[encoded data removed]",
      "text/plain": [
       "<Figure size 432x288 with 2 Axes>"
      ]
     },
     "metadata": {
      "needs_background": "light"
     },
     "output_type": "display_data"
    }
   ],
   "source": [
    "#Ploting Evaporation & Sunshine data\n",
    "fig,ax =plt.subplots(2,1)\n",
    "sns.boxplot(data=w_train,x='Evaporation',ax=ax[0],color='turquoise')\n",
    "sns.boxplot(data=w_train,x='Sunshine',ax=ax[1],color='chocolate')\n",
    "fig.tight_layout()"
   ]
  },
  {
   "cell_type": "code",
   "execution_count": 316,
   "id": "5a6e5787",
   "metadata": {},
   "outputs": [
    {
     "data": {
      "image/png": "[encoded data removed]",
      "text/plain": [
       "<Figure size 432x288 with 2 Axes>"
      ]
     },
     "metadata": {
      "needs_background": "light"
     },
     "output_type": "display_data"
    }
   ],
   "source": [
    "#Ploting Humidity Data\n",
    "fig,ax =plt.subplots(2,1)\n",
    "sns.boxplot(data=w_train,x='Humidity9am',ax=ax[0],color='turquoise')\n",
    "sns.boxplot(data=w_train,x='Humidity3pm',ax=ax[1],color='chocolate')\n",
    "fig.tight_layout()"
   ]
  },
  {
   "cell_type": "code",
   "execution_count": 317,
   "id": "72119a0e",
   "metadata": {},
   "outputs": [
    {
     "data": {
      "image/png": "[encoded data removed]",
      "text/plain": [
       "<Figure size 432x288 with 2 Axes>"
      ]
     },
     "metadata": {
      "needs_background": "light"
     },
     "output_type": "display_data"
    }
   ],
   "source": [
    "#Ploting Pressure data\n",
    "fig,ax =plt.subplots(2,1)\n",
    "sns.boxplot(data=w_train,x='Pressure9am',ax=ax[0],color='turquoise')\n",
    "sns.boxplot(data=w_train,x='Pressure3pm',ax=ax[1],color='chocolate')\n",
    "fig.tight_layout()"
   ]
  },
  {
   "cell_type": "code",
   "execution_count": 318,
   "id": "87e8a099",
   "metadata": {},
   "outputs": [
    {
     "data": {
      "image/png": "[encoded data removed]",
      "text/plain": [
       "<Figure size 432x288 with 2 Axes>"
      ]
     },
     "metadata": {
      "needs_background": "light"
     },
     "output_type": "display_data"
    }
   ],
   "source": [
    "#Ploting Temp data\n",
    "fig,ax =plt.subplots(2,1)\n",
    "sns.boxplot(data=w_train,x='Temp9am',ax=ax[0],color='turquoise')\n",
    "sns.boxplot(data=w_train,x='Temp3pm',ax=ax[1],color='chocolate')\n",
    "fig.tight_layout()"
   ]
  },
  {
   "cell_type": "markdown",
   "id": "f65ac0a6",
   "metadata": {},
   "source": [
    "#### Analysing Numerical Features"
   ]
  },
  {
   "cell_type": "code",
   "execution_count": 319,
   "id": "ae87daaf",
   "metadata": {},
   "outputs": [
    {
     "name": "stdout",
     "output_type": "stream",
     "text": [
      "['MinTemp', 'MaxTemp', 'Rainfall', 'Evaporation', 'Sunshine', 'WindGustSpeed', 'WindSpeed9am', 'WindSpeed3pm', 'Humidity9am', 'Humidity3pm', 'Pressure9am', 'Pressure3pm', 'Cloud9am', 'Cloud3pm', 'Temp9am', 'Temp3pm', 'RainToday', 'RainTomorrow']\n"
     ]
    }
   ],
   "source": [
    "#lets get the list of Nuemrical feature column list\n",
    "num_cols = w_train.select_dtypes('number').columns.to_list()\n",
    "print(num_cols)"
   ]
  },
  {
   "cell_type": "code",
   "execution_count": 320,
   "id": "29fd3521",
   "metadata": {},
   "outputs": [
    {
     "data": {
      "text/plain": [
       "<AxesSubplot:>"
      ]
     },
     "execution_count": 320,
     "metadata": {},
     "output_type": "execute_result"
    },
    {
     "data": {
      "image/png": "[encoded data removed]",
      "text/plain": [
       "<Figure size 1080x504 with 2 Axes>"
      ]
     },
     "metadata": {
      "needs_background": "light"
     },
     "output_type": "display_data"
    }
   ],
   "source": [
    "#ploting heatmap for getting correlation\n",
    "plt.figure(figsize=(15,7))\n",
    "sns.heatmap(w_train[num_cols].corr(), annot=True)"
   ]
  },
  {
   "cell_type": "code",
   "execution_count": 321,
   "id": "59e9d198",
   "metadata": {},
   "outputs": [
    {
     "name": "stdout",
     "output_type": "stream",
     "text": [
      "MinTemp is highly coorelated with MaxTemp at 0.74\n",
      "MinTemp is highly coorelated with Temp9am at 0.90\n",
      "MinTemp is highly coorelated with Temp3pm at 0.71\n",
      "MaxTemp is highly coorelated with MinTemp at 0.74\n",
      "MaxTemp is highly coorelated with Temp9am at 0.89\n",
      "MaxTemp is highly coorelated with Temp3pm at 0.98\n",
      "WindGustSpeed is highly coorelated with WindSpeed3pm at 0.61\n",
      "WindSpeed3pm is highly coorelated with WindGustSpeed at 0.61\n",
      "Humidity9am is highly coorelated with Humidity3pm at 0.67\n",
      "Humidity3pm is highly coorelated with Humidity9am at 0.67\n",
      "Pressure9am is highly coorelated with Pressure3pm at 0.96\n",
      "Pressure3pm is highly coorelated with Pressure9am at 0.96\n",
      "Temp9am is highly coorelated with MinTemp at 0.90\n",
      "Temp9am is highly coorelated with MaxTemp at 0.89\n",
      "Temp9am is highly coorelated with Temp3pm at 0.86\n",
      "Temp3pm is highly coorelated with MinTemp at 0.71\n",
      "Temp3pm is highly coorelated with MaxTemp at 0.98\n",
      "Temp3pm is highly coorelated with Temp9am at 0.86\n"
     ]
    }
   ],
   "source": [
    "# to get the num variables who are having high correlation\n",
    "threshold=0.60\n",
    "corr_col=[]\n",
    "for i in num_cols:\n",
    "    for j in num_cols:\n",
    "        if i == j:\n",
    "            continue\n",
    "        if w_train[[i,j]].corr()[i][1] >= threshold:\n",
    "            print(\"{} is highly coorelated with {} at {:.2f}\".format(i,j,w_train[[i,j]].corr()[i][1] ))\n",
    "            "
   ]
  },
  {
   "cell_type": "markdown",
   "id": "00371bb0",
   "metadata": {},
   "source": [
    "As we are using only Decison tree model for this dataset. It's not necessary to treat the outliers & multicollinearity between independent variable. Hence we will proceed for training now."
   ]
  },
  {
   "cell_type": "code",
   "execution_count": 322,
   "id": "2e01dea9",
   "metadata": {},
   "outputs": [],
   "source": [
    "#from sklearn import preprocessing\n",
    "#W_train=w_train.copy()"
   ]
  },
  {
   "cell_type": "markdown",
   "id": "f4b84395",
   "metadata": {},
   "source": [
    "le = preprocessing.LabelEncoder()\n",
    "W_train['Location'] = le.fit_transform(W_train['Location'])\n",
    "W_train['WindDir9am'] = le.fit_transform(W_train['WindDir9am'])\n",
    "W_train['WindDir3pm'] = le.fit_transform(W_train['WindDir3pm'])\n",
    "W_train['WindGustDir'] = le.fit_transform(W_train['WindGustDir'])"
   ]
  },
  {
   "cell_type": "code",
   "execution_count": 323,
   "id": "bf8b2f24",
   "metadata": {},
   "outputs": [],
   "source": [
    "from sklearn.model_selection import train_test_split\n",
    "import matplotlib.pyplot as plt\n",
    "from sklearn.tree import DecisionTreeClassifier\n",
    "from sklearn.metrics import classification_report, confusion_matrix, accuracy_score\n",
    "from sklearn import tree\n",
    "from imblearn.over_sampling import SMOTE\n",
    "from collections import Counter\n",
    "from sklearn.metrics import roc_curve, roc_auc_score, f1_score\n",
    "from sklearn.ensemble import RandomForestClassifier\n",
    "from sklearn.linear_model import LogisticRegression"
   ]
  },
  {
   "cell_type": "code",
   "execution_count": 324,
   "id": "b446c2e0",
   "metadata": {},
   "outputs": [],
   "source": [
    "# Extracting month from date\n",
    "w_train['month'] = pd.to_datetime(w_train['Date']).dt.month"
   ]
  },
  {
   "cell_type": "code",
   "execution_count": 325,
   "id": "346e999e",
   "metadata": {},
   "outputs": [
    {
     "data": {
      "text/html": [
       "<div>\n",
       "<style scoped>\n",
       "    .dataframe tbody tr th:only-of-type {\n",
       "        vertical-align: middle;\n",
       "    }\n",
       "\n",
       "    .dataframe tbody tr th {\n",
       "        vertical-align: top;\n",
       "    }\n",
       "\n",
       "    .dataframe thead th {\n",
       "        text-align: right;\n",
       "    }\n",
       "</style>\n",
       "<table border=\"1\" class=\"dataframe\">\n",
       "  <thead>\n",
       "    <tr style=\"text-align: right;\">\n",
       "      <th></th>\n",
       "      <th>MinTemp</th>\n",
       "      <th>MaxTemp</th>\n",
       "      <th>Rainfall</th>\n",
       "      <th>Evaporation</th>\n",
       "      <th>Sunshine</th>\n",
       "      <th>WindGustSpeed</th>\n",
       "      <th>WindSpeed9am</th>\n",
       "      <th>WindSpeed3pm</th>\n",
       "      <th>Humidity9am</th>\n",
       "      <th>Humidity3pm</th>\n",
       "      <th>...</th>\n",
       "      <th>WindDir3pm_NNW</th>\n",
       "      <th>WindDir3pm_NW</th>\n",
       "      <th>WindDir3pm_S</th>\n",
       "      <th>WindDir3pm_SE</th>\n",
       "      <th>WindDir3pm_SSE</th>\n",
       "      <th>WindDir3pm_SSW</th>\n",
       "      <th>WindDir3pm_SW</th>\n",
       "      <th>WindDir3pm_W</th>\n",
       "      <th>WindDir3pm_WNW</th>\n",
       "      <th>WindDir3pm_WSW</th>\n",
       "    </tr>\n",
       "  </thead>\n",
       "  <tbody>\n",
       "    <tr>\n",
       "      <th>8439</th>\n",
       "      <td>8.8</td>\n",
       "      <td>15.7</td>\n",
       "      <td>5.0</td>\n",
       "      <td>1.6</td>\n",
       "      <td>2.6</td>\n",
       "      <td>48.0</td>\n",
       "      <td>13.0</td>\n",
       "      <td>15.0</td>\n",
       "      <td>92.0</td>\n",
       "      <td>67.0</td>\n",
       "      <td>...</td>\n",
       "      <td>0</td>\n",
       "      <td>0</td>\n",
       "      <td>0</td>\n",
       "      <td>0</td>\n",
       "      <td>0</td>\n",
       "      <td>0</td>\n",
       "      <td>0</td>\n",
       "      <td>1</td>\n",
       "      <td>0</td>\n",
       "      <td>0</td>\n",
       "    </tr>\n",
       "    <tr>\n",
       "      <th>629</th>\n",
       "      <td>12.7</td>\n",
       "      <td>15.8</td>\n",
       "      <td>0.8</td>\n",
       "      <td>1.4</td>\n",
       "      <td>7.8</td>\n",
       "      <td>35.0</td>\n",
       "      <td>13.0</td>\n",
       "      <td>15.0</td>\n",
       "      <td>75.0</td>\n",
       "      <td>52.0</td>\n",
       "      <td>...</td>\n",
       "      <td>0</td>\n",
       "      <td>0</td>\n",
       "      <td>0</td>\n",
       "      <td>0</td>\n",
       "      <td>0</td>\n",
       "      <td>0</td>\n",
       "      <td>1</td>\n",
       "      <td>0</td>\n",
       "      <td>0</td>\n",
       "      <td>0</td>\n",
       "    </tr>\n",
       "    <tr>\n",
       "      <th>25669</th>\n",
       "      <td>6.2</td>\n",
       "      <td>15.1</td>\n",
       "      <td>0.0</td>\n",
       "      <td>1.8</td>\n",
       "      <td>2.1</td>\n",
       "      <td>20.0</td>\n",
       "      <td>2.0</td>\n",
       "      <td>11.0</td>\n",
       "      <td>81.0</td>\n",
       "      <td>56.0</td>\n",
       "      <td>...</td>\n",
       "      <td>0</td>\n",
       "      <td>0</td>\n",
       "      <td>0</td>\n",
       "      <td>0</td>\n",
       "      <td>0</td>\n",
       "      <td>0</td>\n",
       "      <td>1</td>\n",
       "      <td>0</td>\n",
       "      <td>0</td>\n",
       "      <td>0</td>\n",
       "    </tr>\n",
       "    <tr>\n",
       "      <th>71740</th>\n",
       "      <td>5.3</td>\n",
       "      <td>15.9</td>\n",
       "      <td>0.0</td>\n",
       "      <td>1.4</td>\n",
       "      <td>8.0</td>\n",
       "      <td>30.0</td>\n",
       "      <td>6.0</td>\n",
       "      <td>13.0</td>\n",
       "      <td>71.0</td>\n",
       "      <td>46.0</td>\n",
       "      <td>...</td>\n",
       "      <td>0</td>\n",
       "      <td>0</td>\n",
       "      <td>0</td>\n",
       "      <td>0</td>\n",
       "      <td>0</td>\n",
       "      <td>0</td>\n",
       "      <td>0</td>\n",
       "      <td>0</td>\n",
       "      <td>0</td>\n",
       "      <td>0</td>\n",
       "    </tr>\n",
       "    <tr>\n",
       "      <th>94710</th>\n",
       "      <td>9.8</td>\n",
       "      <td>15.4</td>\n",
       "      <td>0.0</td>\n",
       "      <td>1.4</td>\n",
       "      <td>0.9</td>\n",
       "      <td>30.0</td>\n",
       "      <td>9.0</td>\n",
       "      <td>9.0</td>\n",
       "      <td>56.0</td>\n",
       "      <td>67.0</td>\n",
       "      <td>...</td>\n",
       "      <td>0</td>\n",
       "      <td>0</td>\n",
       "      <td>0</td>\n",
       "      <td>0</td>\n",
       "      <td>0</td>\n",
       "      <td>0</td>\n",
       "      <td>0</td>\n",
       "      <td>0</td>\n",
       "      <td>0</td>\n",
       "      <td>0</td>\n",
       "    </tr>\n",
       "  </tbody>\n",
       "</table>\n",
       "<p>5 rows × 116 columns</p>\n",
       "</div>"
      ],
      "text/plain": [
       "       MinTemp  MaxTemp  Rainfall  Evaporation  Sunshine  WindGustSpeed  \\\n",
       "8439       8.8     15.7       5.0          1.6       2.6           48.0   \n",
       "629       12.7     15.8       0.8          1.4       7.8           35.0   \n",
       "25669      6.2     15.1       0.0          1.8       2.1           20.0   \n",
       "71740      5.3     15.9       0.0          1.4       8.0           30.0   \n",
       "94710      9.8     15.4       0.0          1.4       0.9           30.0   \n",
       "\n",
       "       WindSpeed9am  WindSpeed3pm  Humidity9am  Humidity3pm  ...  \\\n",
       "8439           13.0          15.0         92.0         67.0  ...   \n",
       "629            13.0          15.0         75.0         52.0  ...   \n",
       "25669           2.0          11.0         81.0         56.0  ...   \n",
       "71740           6.0          13.0         71.0         46.0  ...   \n",
       "94710           9.0           9.0         56.0         67.0  ...   \n",
       "\n",
       "       WindDir3pm_NNW  WindDir3pm_NW  WindDir3pm_S  WindDir3pm_SE  \\\n",
       "8439                0              0             0              0   \n",
       "629                 0              0             0              0   \n",
       "25669               0              0             0              0   \n",
       "71740               0              0             0              0   \n",
       "94710               0              0             0              0   \n",
       "\n",
       "       WindDir3pm_SSE  WindDir3pm_SSW  WindDir3pm_SW  WindDir3pm_W  \\\n",
       "8439                0               0              0             1   \n",
       "629                 0               0              1             0   \n",
       "25669               0               0              1             0   \n",
       "71740               0               0              0             0   \n",
       "94710               0               0              0             0   \n",
       "\n",
       "       WindDir3pm_WNW  WindDir3pm_WSW  \n",
       "8439                0               0  \n",
       "629                 0               0  \n",
       "25669               0               0  \n",
       "71740               0               0  \n",
       "94710               0               0  \n",
       "\n",
       "[5 rows x 116 columns]"
      ]
     },
     "execution_count": 325,
     "metadata": {},
     "output_type": "execute_result"
    }
   ],
   "source": [
    "W_train = w_train.drop(['Date'],axis=1)\n",
    "W_train = pd.get_dummies(W_train)\n",
    "W_train.head()"
   ]
  },
  {
   "cell_type": "code",
   "execution_count": 326,
   "id": "b078e287",
   "metadata": {},
   "outputs": [
    {
     "data": {
      "text/html": [
       "<div>\n",
       "<style scoped>\n",
       "    .dataframe tbody tr th:only-of-type {\n",
       "        vertical-align: middle;\n",
       "    }\n",
       "\n",
       "    .dataframe tbody tr th {\n",
       "        vertical-align: top;\n",
       "    }\n",
       "\n",
       "    .dataframe thead th {\n",
       "        text-align: right;\n",
       "    }\n",
       "</style>\n",
       "<table border=\"1\" class=\"dataframe\">\n",
       "  <thead>\n",
       "    <tr style=\"text-align: right;\">\n",
       "      <th></th>\n",
       "      <th>MinTemp</th>\n",
       "      <th>MaxTemp</th>\n",
       "      <th>Rainfall</th>\n",
       "      <th>Evaporation</th>\n",
       "      <th>Sunshine</th>\n",
       "      <th>WindGustSpeed</th>\n",
       "      <th>WindSpeed9am</th>\n",
       "      <th>WindSpeed3pm</th>\n",
       "      <th>Humidity9am</th>\n",
       "      <th>Humidity3pm</th>\n",
       "      <th>...</th>\n",
       "      <th>WindDir3pm_NNW</th>\n",
       "      <th>WindDir3pm_NW</th>\n",
       "      <th>WindDir3pm_S</th>\n",
       "      <th>WindDir3pm_SE</th>\n",
       "      <th>WindDir3pm_SSE</th>\n",
       "      <th>WindDir3pm_SSW</th>\n",
       "      <th>WindDir3pm_SW</th>\n",
       "      <th>WindDir3pm_W</th>\n",
       "      <th>WindDir3pm_WNW</th>\n",
       "      <th>WindDir3pm_WSW</th>\n",
       "    </tr>\n",
       "  </thead>\n",
       "  <tbody>\n",
       "    <tr>\n",
       "      <th>8439</th>\n",
       "      <td>8.8</td>\n",
       "      <td>15.7</td>\n",
       "      <td>5.0</td>\n",
       "      <td>1.6</td>\n",
       "      <td>2.6</td>\n",
       "      <td>48.0</td>\n",
       "      <td>13.0</td>\n",
       "      <td>15.0</td>\n",
       "      <td>92.0</td>\n",
       "      <td>67.0</td>\n",
       "      <td>...</td>\n",
       "      <td>0</td>\n",
       "      <td>0</td>\n",
       "      <td>0</td>\n",
       "      <td>0</td>\n",
       "      <td>0</td>\n",
       "      <td>0</td>\n",
       "      <td>0</td>\n",
       "      <td>1</td>\n",
       "      <td>0</td>\n",
       "      <td>0</td>\n",
       "    </tr>\n",
       "    <tr>\n",
       "      <th>629</th>\n",
       "      <td>12.7</td>\n",
       "      <td>15.8</td>\n",
       "      <td>0.8</td>\n",
       "      <td>1.4</td>\n",
       "      <td>7.8</td>\n",
       "      <td>35.0</td>\n",
       "      <td>13.0</td>\n",
       "      <td>15.0</td>\n",
       "      <td>75.0</td>\n",
       "      <td>52.0</td>\n",
       "      <td>...</td>\n",
       "      <td>0</td>\n",
       "      <td>0</td>\n",
       "      <td>0</td>\n",
       "      <td>0</td>\n",
       "      <td>0</td>\n",
       "      <td>0</td>\n",
       "      <td>1</td>\n",
       "      <td>0</td>\n",
       "      <td>0</td>\n",
       "      <td>0</td>\n",
       "    </tr>\n",
       "    <tr>\n",
       "      <th>25669</th>\n",
       "      <td>6.2</td>\n",
       "      <td>15.1</td>\n",
       "      <td>0.0</td>\n",
       "      <td>1.8</td>\n",
       "      <td>2.1</td>\n",
       "      <td>20.0</td>\n",
       "      <td>2.0</td>\n",
       "      <td>11.0</td>\n",
       "      <td>81.0</td>\n",
       "      <td>56.0</td>\n",
       "      <td>...</td>\n",
       "      <td>0</td>\n",
       "      <td>0</td>\n",
       "      <td>0</td>\n",
       "      <td>0</td>\n",
       "      <td>0</td>\n",
       "      <td>0</td>\n",
       "      <td>1</td>\n",
       "      <td>0</td>\n",
       "      <td>0</td>\n",
       "      <td>0</td>\n",
       "    </tr>\n",
       "    <tr>\n",
       "      <th>71740</th>\n",
       "      <td>5.3</td>\n",
       "      <td>15.9</td>\n",
       "      <td>0.0</td>\n",
       "      <td>1.4</td>\n",
       "      <td>8.0</td>\n",
       "      <td>30.0</td>\n",
       "      <td>6.0</td>\n",
       "      <td>13.0</td>\n",
       "      <td>71.0</td>\n",
       "      <td>46.0</td>\n",
       "      <td>...</td>\n",
       "      <td>0</td>\n",
       "      <td>0</td>\n",
       "      <td>0</td>\n",
       "      <td>0</td>\n",
       "      <td>0</td>\n",
       "      <td>0</td>\n",
       "      <td>0</td>\n",
       "      <td>0</td>\n",
       "      <td>0</td>\n",
       "      <td>0</td>\n",
       "    </tr>\n",
       "    <tr>\n",
       "      <th>94710</th>\n",
       "      <td>9.8</td>\n",
       "      <td>15.4</td>\n",
       "      <td>0.0</td>\n",
       "      <td>1.4</td>\n",
       "      <td>0.9</td>\n",
       "      <td>30.0</td>\n",
       "      <td>9.0</td>\n",
       "      <td>9.0</td>\n",
       "      <td>56.0</td>\n",
       "      <td>67.0</td>\n",
       "      <td>...</td>\n",
       "      <td>0</td>\n",
       "      <td>0</td>\n",
       "      <td>0</td>\n",
       "      <td>0</td>\n",
       "      <td>0</td>\n",
       "      <td>0</td>\n",
       "      <td>0</td>\n",
       "      <td>0</td>\n",
       "      <td>0</td>\n",
       "      <td>0</td>\n",
       "    </tr>\n",
       "  </tbody>\n",
       "</table>\n",
       "<p>5 rows × 115 columns</p>\n",
       "</div>"
      ],
      "text/plain": [
       "       MinTemp  MaxTemp  Rainfall  Evaporation  Sunshine  WindGustSpeed  \\\n",
       "8439       8.8     15.7       5.0          1.6       2.6           48.0   \n",
       "629       12.7     15.8       0.8          1.4       7.8           35.0   \n",
       "25669      6.2     15.1       0.0          1.8       2.1           20.0   \n",
       "71740      5.3     15.9       0.0          1.4       8.0           30.0   \n",
       "94710      9.8     15.4       0.0          1.4       0.9           30.0   \n",
       "\n",
       "       WindSpeed9am  WindSpeed3pm  Humidity9am  Humidity3pm  ...  \\\n",
       "8439           13.0          15.0         92.0         67.0  ...   \n",
       "629            13.0          15.0         75.0         52.0  ...   \n",
       "25669           2.0          11.0         81.0         56.0  ...   \n",
       "71740           6.0          13.0         71.0         46.0  ...   \n",
       "94710           9.0           9.0         56.0         67.0  ...   \n",
       "\n",
       "       WindDir3pm_NNW  WindDir3pm_NW  WindDir3pm_S  WindDir3pm_SE  \\\n",
       "8439                0              0             0              0   \n",
       "629                 0              0             0              0   \n",
       "25669               0              0             0              0   \n",
       "71740               0              0             0              0   \n",
       "94710               0              0             0              0   \n",
       "\n",
       "       WindDir3pm_SSE  WindDir3pm_SSW  WindDir3pm_SW  WindDir3pm_W  \\\n",
       "8439                0               0              0             1   \n",
       "629                 0               0              1             0   \n",
       "25669               0               0              1             0   \n",
       "71740               0               0              0             0   \n",
       "94710               0               0              0             0   \n",
       "\n",
       "       WindDir3pm_WNW  WindDir3pm_WSW  \n",
       "8439                0               0  \n",
       "629                 0               0  \n",
       "25669               0               0  \n",
       "71740               0               0  \n",
       "94710               0               0  \n",
       "\n",
       "[5 rows x 115 columns]"
      ]
     },
     "execution_count": 326,
     "metadata": {},
     "output_type": "execute_result"
    }
   ],
   "source": [
    "x_train = W_train.drop(['RainTomorrow'],axis=1)\n",
    "y_train = W_train[\"RainTomorrow\"]\n",
    "x_train.head()"
   ]
  },
  {
   "cell_type": "code",
   "execution_count": 327,
   "id": "c2ce075a",
   "metadata": {},
   "outputs": [
    {
     "data": {
      "text/plain": [
       "MinTemp               1\n",
       "WindDir9am_N          1\n",
       "WindDir9am_ENE        1\n",
       "WindDir9am_E          1\n",
       "WindGustDir_WSW       1\n",
       "                     ..\n",
       "Location_Katherine    1\n",
       "Location_Hobart       1\n",
       "Location_GoldCoast    1\n",
       "Location_Darwin       1\n",
       "WindDir3pm_WSW        1\n",
       "Length: 115, dtype: int64"
      ]
     },
     "execution_count": 327,
     "metadata": {},
     "output_type": "execute_result"
    }
   ],
   "source": [
    "x_train.columns.value_counts()"
   ]
  },
  {
   "cell_type": "code",
   "execution_count": 328,
   "id": "c5a523cf",
   "metadata": {},
   "outputs": [],
   "source": [
    "# splitting the train data into train & validation\n",
    "x_train, x_valid, y_train, y_valid = train_test_split(x_train, y_train, test_size =0.25, random_state=50)"
   ]
  },
  {
   "cell_type": "code",
   "execution_count": 329,
   "id": "a4a7f054",
   "metadata": {},
   "outputs": [
    {
     "data": {
      "text/plain": [
       "Index([], dtype='object')"
      ]
     },
     "execution_count": 329,
     "metadata": {},
     "output_type": "execute_result"
    }
   ],
   "source": [
    "x_train.columns[x_train.isna().sum()>0]"
   ]
  },
  {
   "cell_type": "code",
   "execution_count": 330,
   "id": "6cde9989",
   "metadata": {},
   "outputs": [
    {
     "data": {
      "text/plain": [
       "Counter({1: 16019, 0: 57370})"
      ]
     },
     "execution_count": 330,
     "metadata": {},
     "output_type": "execute_result"
    }
   ],
   "source": [
    "count = Counter(y_train)\n",
    "count"
   ]
  },
  {
   "cell_type": "code",
   "execution_count": 331,
   "id": "c497a781",
   "metadata": {},
   "outputs": [],
   "source": [
    "from sklearn.metrics import recall_score\n",
    "from sklearn.metrics import f1_score"
   ]
  },
  {
   "cell_type": "markdown",
   "id": "667acc04",
   "metadata": {},
   "source": [
    "### Model Building with Imbalanced datset"
   ]
  },
  {
   "cell_type": "code",
   "execution_count": 332,
   "id": "5eb00ed5",
   "metadata": {},
   "outputs": [
    {
     "name": "stdout",
     "output_type": "stream",
     "text": [
      "Recall:\n",
      " [0.5395616641901931, 0.21972511144130757, 0.37481426448737, 0.5098439821693908, 0.43945022288261515, 0.47065378900445765, 0.45820950965824664, 0.46396731054977713, 0.47901188707280834, 0.4825408618127786, 0.4914561664190193, 0.5092867756315007, 0.49944279346210996, 0.5016716196136701, 0.5111441307578009, 0.5150445765230312, 0.5094725111441307, 0.5217310549777118, 0.5143016344725111]\n",
      "F1_score:\n",
      " [0.5507631055076312, 0.3470225872689939, 0.4962498463051764, 0.5721133805752397, 0.5510655642249913, 0.572138180176112, 0.5647247338903514, 0.5651583710407241, 0.5696929533907665, 0.571994715984148, 0.5689710783786689, 0.5746620559572461, 0.5614364756237603, 0.5569072164948453, 0.5577624645318201, 0.5523354247584902, 0.5452738296392009, 0.5502448579823702, 0.5377743251116721]\n",
      "Max Recall: 0.5395616641901931 \n",
      " Max F1 Score 0.5746620559572461\n"
     ]
    }
   ],
   "source": [
    "Depth = np.arange(1,20)\n",
    "Recall = []\n",
    "F1_score =[]\n",
    "for d in Depth:\n",
    "    # define parameters\n",
    "    model = DecisionTreeClassifier(criterion = \"gini\", max_depth=d)\n",
    "    # fit model on training data\n",
    "    model.fit(x_train, y_train)\n",
    "    # prediction of y on validation data\n",
    "    y_pred = model.predict(x_valid)\n",
    "    \n",
    "    Recall.append(recall_score(y_valid, y_pred))\n",
    "    F1_score.append(f1_score(y_valid, y_pred))\n",
    "\n",
    "print ('Recall:\\n',Recall)\n",
    "print('F1_score:\\n',F1_score)\n",
    "\n",
    "print (\"Max Recall:\", max(Recall),\"\\n Max F1 Score\",max(F1_score))"
   ]
  },
  {
   "cell_type": "code",
   "execution_count": 333,
   "id": "9a607f9b",
   "metadata": {},
   "outputs": [
    {
     "name": "stdout",
     "output_type": "stream",
     "text": [
      "Test Recall 0.4823551263001486\n",
      "Test F1_score 0.5745575221238938\n",
      "AUROC:  0.7134259908230304\n"
     ]
    }
   ],
   "source": [
    "# best depth is 9\n",
    "# define parameters\n",
    "model = DecisionTreeClassifier(criterion = \"gini\", max_depth=9, min_samples_leaf = 250)\n",
    "# fit model on training data\n",
    "model.fit(x_train, y_train)\n",
    "# prediction of y on validation data\n",
    "y_pred = model.predict(x_valid)\n",
    "ytrain_pred = model.predict(x_train)\n",
    "    \n",
    "print(\"Test Recall\", recall_score(y_valid, y_pred))\n",
    "print(\"Test F1_score\",f1_score(y_valid, y_pred))\n",
    "print(\"AUROC: \", roc_auc_score(y_valid, y_pred))"
   ]
  },
  {
   "cell_type": "code",
   "execution_count": 334,
   "id": "371c8721",
   "metadata": {},
   "outputs": [
    {
     "name": "stdout",
     "output_type": "stream",
     "text": [
      "Test Recall 0.487369985141159\n",
      "Test F1_score 0.6005263760155625\n",
      "Test AUROC:  0.7245288080842064\n"
     ]
    }
   ],
   "source": [
    "# Random - Forest model fitting\n",
    "\n",
    "rf = RandomForestClassifier()\n",
    "#fitting model\n",
    "rf.fit(x_train, y_train)\n",
    "#Calculating error metric on validation\n",
    "y_pred = rf.predict(x_valid)\n",
    "ytrain_pred = rf.predict(x_train)\n",
    "    \n",
    "print(\"Test Recall\", recall_score(y_valid, y_pred))\n",
    "print(\"Test F1_score\",f1_score(y_valid, y_pred))\n",
    "print(\"Test AUROC: \", roc_auc_score(y_valid, y_pred))"
   ]
  },
  {
   "cell_type": "code",
   "execution_count": 335,
   "id": "c8acf94b",
   "metadata": {},
   "outputs": [
    {
     "name": "stdout",
     "output_type": "stream",
     "text": [
      "Test Recall 0.45709509658246655\n",
      "Test F1_score 0.5565984394436277\n",
      "AUROC:  0.7023945084589481\n"
     ]
    }
   ],
   "source": [
    "# Logistic Regression Model fitting\n",
    "\n",
    "log_reg = LogisticRegression()\n",
    "# fit model on training data\n",
    "log_reg.fit(x_train, y_train)\n",
    "# prediction of y on validation data\n",
    "y_pred = log_reg.predict(x_valid)\n",
    "ytrain_pred = log_reg.predict(x_train)\n",
    "    \n",
    "print(\"Test Recall\", recall_score(y_valid, y_pred))\n",
    "print(\"Test F1_score\",f1_score(y_valid, y_pred))\n",
    "print(\"AUROC: \", roc_auc_score(y_valid, y_pred))"
   ]
  },
  {
   "cell_type": "markdown",
   "id": "9599e1ec",
   "metadata": {},
   "source": [
    "### Model Building with Balanced datset"
   ]
  },
  {
   "cell_type": "code",
   "execution_count": 336,
   "id": "19cdd53e",
   "metadata": {},
   "outputs": [
    {
     "name": "stdout",
     "output_type": "stream",
     "text": [
      "Counter({1: 57370, 0: 57370})\n"
     ]
    }
   ],
   "source": [
    "#Balancing data\n",
    "#to balance the training dataset \n",
    "os = SMOTE(random_state=50) #defined random state\n",
    "Xb_train, Yb_train = os.fit_resample(x_train, y_train)\n",
    "count = Counter(Yb_train)\n",
    "print(count)\n"
   ]
  },
  {
   "cell_type": "code",
   "execution_count": 337,
   "id": "ab18a534",
   "metadata": {},
   "outputs": [
    {
     "name": "stdout",
     "output_type": "stream",
     "text": [
      "Recall:\n",
      " [0.6145988112927192, 0.788075780089153, 0.4962852897473997, 0.6638187221396731, 0.6539747399702823, 0.6422734026745914, 0.6563893016344725, 0.6578751857355126, 0.6612184249628529, 0.6417161961367014, 0.6339153046062407, 0.6368870728083209, 0.6183135215453195, 0.612369985141159, 0.6145988112927192, 0.5984398216939079, 0.5910104011887073, 0.587667161961367, 0.5859955423476969]\n",
      "F1_score:\n",
      " [0.554317782058799, 0.5099146737171013, 0.5425931566656513, 0.5759871071716357, 0.572520325203252, 0.5755659121171771, 0.5818720671770807, 0.5776255707762558, 0.5756326299620018, 0.5722567287784679, 0.5790143353974043, 0.5798596431893125, 0.5746094761370502, 0.5730922996697375, 0.5695843015750065, 0.5568613895610093, 0.5490466741437321, 0.5458937198067634, 0.544857956998532]\n",
      "Max Recall: 0.788075780089153 \n",
      " Max F1 Score 0.5818720671770807\n"
     ]
    }
   ],
   "source": [
    "Depth = np.arange(1,20)\n",
    "Recall = []\n",
    "F1_score =[]\n",
    "for d in Depth:\n",
    "    # define parameters\n",
    "    model = DecisionTreeClassifier(criterion = \"gini\", max_depth=d)\n",
    "    # fit model on training data\n",
    "    model.fit(Xb_train, Yb_train)\n",
    "    # prediction of y on validation data\n",
    "    y_pred = model.predict(x_valid)\n",
    "    \n",
    "    Recall.append(recall_score(y_valid, y_pred))\n",
    "    F1_score.append(f1_score(y_valid, y_pred))\n",
    "\n",
    "print ('Recall:\\n',Recall)\n",
    "print('F1_score:\\n',F1_score)\n",
    "\n",
    "print (\"Max Recall:\", max(Recall),\"\\n Max F1 Score\",max(F1_score))"
   ]
  },
  {
   "cell_type": "code",
   "execution_count": 338,
   "id": "daa90623",
   "metadata": {
    "scrolled": true
   },
   "outputs": [
    {
     "name": "stdout",
     "output_type": "stream",
     "text": [
      "Test Recall 0.6612184249628529\n",
      "Test F1_score 0.5756326299620018\n",
      "AUROC:  0.7408555437183236\n"
     ]
    }
   ],
   "source": [
    "# best depth is 9\n",
    "# define parameters\n",
    "model = DecisionTreeClassifier(criterion = \"gini\", max_depth=9)\n",
    "# fit model on training data\n",
    "model.fit(Xb_train, Yb_train)\n",
    "# prediction of y on validation data\n",
    "y_pred = model.predict(x_valid)\n",
    "ytrain_pred = model.predict(Xb_train)\n",
    "    \n",
    "print(\"Test Recall\", recall_score(y_valid, y_pred))\n",
    "print(\"Test F1_score\",f1_score(y_valid, y_pred))\n",
    "print(\"AUROC: \", roc_auc_score(y_valid, y_pred))"
   ]
  },
  {
   "cell_type": "code",
   "execution_count": 339,
   "id": "d01b9812",
   "metadata": {},
   "outputs": [
    {
     "name": "stdout",
     "output_type": "stream",
     "text": [
      "Test Recall 0.5861812778603269\n",
      "Test F1_score 0.6368038740920097\n",
      "AUROC:  0.7571367605234549\n"
     ]
    }
   ],
   "source": [
    "# Random - Forest model fitting\n",
    "\n",
    "rf = RandomForestClassifier()\n",
    "#fitting model\n",
    "rf.fit(Xb_train, Yb_train)\n",
    "#Calculating error metric on validation\n",
    "y_pred = rf.predict(x_valid)\n",
    "ytrain_pred = rf.predict(Xb_train)\n",
    "    \n",
    "print(\"Test Recall\", recall_score(y_valid, y_pred))\n",
    "print(\"Test F1_score\",f1_score(y_valid, y_pred))\n",
    "print(\"AUROC: \", roc_auc_score(y_valid, y_pred))"
   ]
  },
  {
   "cell_type": "code",
   "execution_count": 340,
   "id": "0d9f367a",
   "metadata": {},
   "outputs": [
    {
     "name": "stdout",
     "output_type": "stream",
     "text": [
      "Test Recall 0.7585438335809807\n",
      "Test F1_score 0.5849326840446863\n",
      "AUROC:  0.7614522102915384\n"
     ]
    }
   ],
   "source": [
    "# Logistic Regression Model fitting\n",
    "\n",
    "log_reg = LogisticRegression()\n",
    "# fit model on training data\n",
    "log_reg.fit(Xb_train, Yb_train)\n",
    "# prediction of y on validation data\n",
    "y_pred = log_reg.predict(x_valid)\n",
    "ytrain_pred = log_reg.predict(Xb_train)\n",
    "    \n",
    "print(\"Test Recall\", recall_score(y_valid, y_pred))\n",
    "print(\"Test F1_score\",f1_score(y_valid, y_pred))\n",
    "print(\"AUROC: \", roc_auc_score(y_valid, y_pred))"
   ]
  },
  {
   "cell_type": "code",
   "execution_count": 341,
   "id": "5cd2af20",
   "metadata": {},
   "outputs": [
    {
     "data": {
      "text/plain": [
       "[<matplotlib.lines.Line2D at 0x23904734340>]"
      ]
     },
     "execution_count": 341,
     "metadata": {},
     "output_type": "execute_result"
    },
    {
     "data": {
      "image/png": "[encoded data removed]",
      "text/plain": [
       "<Figure size 432x288 with 1 Axes>"
      ]
     },
     "metadata": {
      "needs_background": "light"
     },
     "output_type": "display_data"
    }
   ],
   "source": [
    "\n",
    "from sklearn import metrics\n",
    "fpr, tpr, _ = metrics.roc_curve(Yb_train, ytrain_pred)\n",
    "\n",
    "#create ROC curve\n",
    "plt.plot(fpr,tpr)"
   ]
  },
  {
   "cell_type": "markdown",
   "id": "7d00f0f2",
   "metadata": {},
   "source": [
    "### Features selection using IV"
   ]
  },
  {
   "cell_type": "code",
   "execution_count": 342,
   "id": "3278b909",
   "metadata": {},
   "outputs": [],
   "source": [
    "def iv_woe(data, target, bins=10, show_woe=False):\n",
    "    c=[]\n",
    "    #Empty Dataframe\n",
    "    newDF,woeDF = pd.DataFrame(), pd.DataFrame()\n",
    "    \n",
    "    #Extract Column Names\n",
    "    cols = data.columns\n",
    "    \n",
    "    #Run WOE and IV on all the independent variables\n",
    "    for ivars in cols[~cols.isin([target])]:\n",
    "        if (data[ivars].dtype.kind in 'bifc') and (len(np.unique(data[ivars]))>10):\n",
    "            binned_x = pd.qcut(data[ivars], bins,  duplicates='drop')\n",
    "            d0 = pd.DataFrame({'x': binned_x, 'y': data[target]})\n",
    "        else:\n",
    "            d0 = pd.DataFrame({'x': data[ivars], 'y': data[target]})\n",
    "\n",
    "        \n",
    "        # Calculate the number of events in each group (bin)\n",
    "        d = d0.groupby(\"x\", as_index=False).agg({\"y\": [\"count\", \"sum\"]})\n",
    "        d.columns = ['Cutoff', 'N', 'Events']\n",
    "        \n",
    "        # Calculate % of events in each group.\n",
    "        d['% of Events'] = np.maximum(d['Events'], 0.5) / d['Events'].sum()\n",
    "\n",
    "        # Calculate the non events in each group.\n",
    "        d['Non-Events'] = d['N'] - d['Events']\n",
    "        # Calculate % of non events in each group.\n",
    "        d['% of Non-Events'] = np.maximum(d['Non-Events'], 0.5) / d['Non-Events'].sum()\n",
    "\n",
    "        # Calculate WOE by taking natural log of division of % of non-events and % of events\n",
    "        d['WoE'] = np.log(d['% of Events']/d['% of Non-Events'])\n",
    "        d['IV'] = d['WoE'] * (d['% of Events'] - d['% of Non-Events'])\n",
    "        d.insert(loc=0, column='Variable', value=ivars)\n",
    "        print(\"Information value of \" + ivars + \" is \" + str(round(d['IV'].sum(),6)))\n",
    "        if d['IV'].sum()<0.03:\n",
    "            c.append(ivars)\n",
    "        temp =pd.DataFrame({\"Variable\" : [ivars], \"IV\" : [d['IV'].sum()]}, columns = [\"Variable\", \"IV\"])\n",
    "        newDF=pd.concat([newDF,temp], axis=0)\n",
    "        woeDF=pd.concat([woeDF,d], axis=0)\n",
    "\n",
    "        #Show WOE Table\n",
    "        if show_woe == True:\n",
    "            print(d)\n",
    "        \n",
    "    return c,newDF, woeDF"
   ]
  },
  {
   "cell_type": "code",
   "execution_count": 343,
   "id": "587c301f",
   "metadata": {},
   "outputs": [
    {
     "name": "stdout",
     "output_type": "stream",
     "text": [
      "Information value of MinTemp is 0.061553\n",
      "Information value of MaxTemp is 0.153892\n",
      "Information value of Rainfall is 0.598191\n",
      "Information value of Evaporation is 0.036652\n",
      "Information value of Sunshine is 0.446371\n",
      "Information value of WindGustSpeed is 0.2486\n",
      "Information value of WindSpeed9am is 0.041797\n",
      "Information value of WindSpeed3pm is 0.047749\n",
      "Information value of Humidity9am is 0.438916\n",
      "Information value of Humidity3pm is 1.293197\n",
      "Information value of Pressure9am is 0.315645\n",
      "Information value of Pressure3pm is 0.266866\n",
      "Information value of Cloud9am is 0.327036\n",
      "Information value of Cloud3pm is 0.364052\n",
      "Information value of Temp9am is 0.013157\n",
      "Information value of Temp3pm is 0.226716\n",
      "Information value of RainToday is 0.493945\n",
      "Information value of month is 0.017655\n",
      "Information value of Location_Adelaide is 7e-06\n",
      "Information value of Location_Albany is 0.004623\n",
      "Information value of Location_Albury is 1.6e-05\n",
      "Information value of Location_AliceSprings is 0.020116\n",
      "Information value of Location_BadgerysCreek is 0.000288\n",
      "Information value of Location_Ballarat is 0.000965\n",
      "Information value of Location_Bendigo is 0.000817\n",
      "Information value of Location_Brisbane is 6.5e-05\n",
      "Information value of Location_Cairns is 0.004682\n",
      "Information value of Location_Canberra is 0.001589\n",
      "Information value of Location_Cobar is 0.00688\n",
      "Information value of Location_CoffsHarbour is 0.003364\n",
      "Information value of Location_Dartmoor is 0.00669\n",
      "Information value of Location_Darwin is 0.002588\n",
      "Information value of Location_GoldCoast is 0.001123\n",
      "Information value of Location_Hobart is 0.000365\n",
      "Information value of Location_Katherine is 0.001721\n",
      "Information value of Location_Launceston is 7.9e-05\n",
      "Information value of Location_Melbourne is 0.0\n",
      "Information value of Location_MelbourneAirport is 2.8e-05\n",
      "Information value of Location_Mildura is 0.010947\n",
      "Information value of Location_Moree is 0.008833\n",
      "Information value of Location_MountGambier is 0.004648\n",
      "Information value of Location_MountGinini is 0.000741\n",
      "Information value of Location_Newcastle is 5.8e-05\n",
      "Information value of Location_Nhil is 0.001271\n",
      "Information value of Location_NorahHead is 0.001881\n",
      "Information value of Location_NorfolkIsland is 0.00485\n",
      "Information value of Location_Nuriootpa is 0.000256\n",
      "Information value of Location_PearceRAAF is 0.003611\n",
      "Information value of Location_Penrith is 0.00029\n",
      "Information value of Location_Perth is 0.000189\n",
      "Information value of Location_PerthAirport is 0.00114\n",
      "Information value of Location_Portland is 0.012549\n",
      "Information value of Location_Richmond is 0.000756\n",
      "Information value of Location_Sale is 3e-05\n",
      "Information value of Location_SalmonGums is 0.003279\n",
      "Information value of Location_Sydney is 0.001439\n",
      "Information value of Location_SydneyAirport is 0.001442\n",
      "Information value of Location_Townsville is 0.002693\n",
      "Information value of Location_Tuggeranong is 0.000898\n",
      "Information value of Location_Uluru is 0.01077\n",
      "Information value of Location_WaggaWagga is 0.001529\n",
      "Information value of Location_Walpole is 0.007153\n",
      "Information value of Location_Watsonia is 0.000318\n",
      "Information value of Location_Williamtown is 7e-06\n",
      "Information value of Location_Witchcliffe is 0.003365\n",
      "Information value of Location_Wollongong is 0.000263\n",
      "Information value of Location_Woomera is 0.029153\n",
      "Information value of WindGustDir_E is 0.014167\n",
      "Information value of WindGustDir_ENE is 0.009629\n",
      "Information value of WindGustDir_ESE is 0.006681\n",
      "Information value of WindGustDir_N is 0.004734\n",
      "Information value of WindGustDir_NE is 0.002243\n",
      "Information value of WindGustDir_NNE is 0.000141\n",
      "Information value of WindGustDir_NNW is 0.00648\n",
      "Information value of WindGustDir_NW is 0.007789\n",
      "Information value of WindGustDir_S is 2.8e-05\n",
      "Information value of WindGustDir_SE is 0.002725\n",
      "Information value of WindGustDir_SSE is 0.003082\n",
      "Information value of WindGustDir_SSW is 2.6e-05\n",
      "Information value of WindGustDir_SW is 0.001915\n",
      "Information value of WindGustDir_W is 0.006999\n",
      "Information value of WindGustDir_WNW is 0.00585\n",
      "Information value of WindGustDir_WSW is 0.000227\n",
      "Information value of WindDir9am_E is 0.015708\n",
      "Information value of WindDir9am_ENE is 0.004514\n",
      "Information value of WindDir9am_ESE is 0.01152\n",
      "Information value of WindDir9am_N is 0.004067\n",
      "Information value of WindDir9am_NE is 0.000407\n",
      "Information value of WindDir9am_NNE is 0.003278\n",
      "Information value of WindDir9am_NNW is 0.014282\n",
      "Information value of WindDir9am_NW is 0.006686\n",
      "Information value of WindDir9am_S is 0.002046\n",
      "Information value of WindDir9am_SE is 0.010281\n",
      "Information value of WindDir9am_SSE is 0.004826\n",
      "Information value of WindDir9am_SSW is 3.2e-05\n",
      "Information value of WindDir9am_SW is 0.000177\n",
      "Information value of WindDir9am_W is 0.003297\n",
      "Information value of WindDir9am_WNW is 0.00229\n",
      "Information value of WindDir9am_WSW is 0.000896\n",
      "Information value of WindDir3pm_E is 0.006639\n",
      "Information value of WindDir3pm_ENE is 0.003933\n",
      "Information value of WindDir3pm_ESE is 0.007552\n",
      "Information value of WindDir3pm_N is 0.006649\n",
      "Information value of WindDir3pm_NE is 0.002182\n",
      "Information value of WindDir3pm_NNE is 0.000414\n",
      "Information value of WindDir3pm_NNW is 0.006115\n",
      "Information value of WindDir3pm_NW is 0.00668\n",
      "Information value of WindDir3pm_S is 0.000155\n",
      "Information value of WindDir3pm_SE is 0.000765\n",
      "Information value of WindDir3pm_SSE is 0.002228\n",
      "Information value of WindDir3pm_SSW is 1.3e-05\n",
      "Information value of WindDir3pm_SW is 0.001727\n",
      "Information value of WindDir3pm_W is 0.002476\n",
      "Information value of WindDir3pm_WNW is 0.006535\n",
      "Information value of WindDir3pm_WSW is 2.7e-05\n"
     ]
    },
    {
     "data": {
      "text/plain": [
       "(['Temp9am',\n",
       "  'month',\n",
       "  'Location_Adelaide',\n",
       "  'Location_Albany',\n",
       "  'Location_Albury',\n",
       "  'Location_AliceSprings',\n",
       "  'Location_BadgerysCreek',\n",
       "  'Location_Ballarat',\n",
       "  'Location_Bendigo',\n",
       "  'Location_Brisbane',\n",
       "  'Location_Cairns',\n",
       "  'Location_Canberra',\n",
       "  'Location_Cobar',\n",
       "  'Location_CoffsHarbour',\n",
       "  'Location_Dartmoor',\n",
       "  'Location_Darwin',\n",
       "  'Location_GoldCoast',\n",
       "  'Location_Hobart',\n",
       "  'Location_Katherine',\n",
       "  'Location_Launceston',\n",
       "  'Location_Melbourne',\n",
       "  'Location_MelbourneAirport',\n",
       "  'Location_Mildura',\n",
       "  'Location_Moree',\n",
       "  'Location_MountGambier',\n",
       "  'Location_MountGinini',\n",
       "  'Location_Newcastle',\n",
       "  'Location_Nhil',\n",
       "  'Location_NorahHead',\n",
       "  'Location_NorfolkIsland',\n",
       "  'Location_Nuriootpa',\n",
       "  'Location_PearceRAAF',\n",
       "  'Location_Penrith',\n",
       "  'Location_Perth',\n",
       "  'Location_PerthAirport',\n",
       "  'Location_Portland',\n",
       "  'Location_Richmond',\n",
       "  'Location_Sale',\n",
       "  'Location_SalmonGums',\n",
       "  'Location_Sydney',\n",
       "  'Location_SydneyAirport',\n",
       "  'Location_Townsville',\n",
       "  'Location_Tuggeranong',\n",
       "  'Location_Uluru',\n",
       "  'Location_WaggaWagga',\n",
       "  'Location_Walpole',\n",
       "  'Location_Watsonia',\n",
       "  'Location_Williamtown',\n",
       "  'Location_Witchcliffe',\n",
       "  'Location_Wollongong',\n",
       "  'Location_Woomera',\n",
       "  'WindGustDir_E',\n",
       "  'WindGustDir_ENE',\n",
       "  'WindGustDir_ESE',\n",
       "  'WindGustDir_N',\n",
       "  'WindGustDir_NE',\n",
       "  'WindGustDir_NNE',\n",
       "  'WindGustDir_NNW',\n",
       "  'WindGustDir_NW',\n",
       "  'WindGustDir_S',\n",
       "  'WindGustDir_SE',\n",
       "  'WindGustDir_SSE',\n",
       "  'WindGustDir_SSW',\n",
       "  'WindGustDir_SW',\n",
       "  'WindGustDir_W',\n",
       "  'WindGustDir_WNW',\n",
       "  'WindGustDir_WSW',\n",
       "  'WindDir9am_E',\n",
       "  'WindDir9am_ENE',\n",
       "  'WindDir9am_ESE',\n",
       "  'WindDir9am_N',\n",
       "  'WindDir9am_NE',\n",
       "  'WindDir9am_NNE',\n",
       "  'WindDir9am_NNW',\n",
       "  'WindDir9am_NW',\n",
       "  'WindDir9am_S',\n",
       "  'WindDir9am_SE',\n",
       "  'WindDir9am_SSE',\n",
       "  'WindDir9am_SSW',\n",
       "  'WindDir9am_SW',\n",
       "  'WindDir9am_W',\n",
       "  'WindDir9am_WNW',\n",
       "  'WindDir9am_WSW',\n",
       "  'WindDir3pm_E',\n",
       "  'WindDir3pm_ENE',\n",
       "  'WindDir3pm_ESE',\n",
       "  'WindDir3pm_N',\n",
       "  'WindDir3pm_NE',\n",
       "  'WindDir3pm_NNE',\n",
       "  'WindDir3pm_NNW',\n",
       "  'WindDir3pm_NW',\n",
       "  'WindDir3pm_S',\n",
       "  'WindDir3pm_SE',\n",
       "  'WindDir3pm_SSE',\n",
       "  'WindDir3pm_SSW',\n",
       "  'WindDir3pm_SW',\n",
       "  'WindDir3pm_W',\n",
       "  'WindDir3pm_WNW',\n",
       "  'WindDir3pm_WSW'],\n",
       "           Variable        IV\n",
       " 0          MinTemp  0.061553\n",
       " 0          MaxTemp  0.153892\n",
       " 0         Rainfall  0.598191\n",
       " 0      Evaporation  0.036652\n",
       " 0         Sunshine  0.446371\n",
       " ..             ...       ...\n",
       " 0   WindDir3pm_SSW  0.000013\n",
       " 0    WindDir3pm_SW  0.001727\n",
       " 0     WindDir3pm_W  0.002476\n",
       " 0   WindDir3pm_WNW  0.006535\n",
       " 0   WindDir3pm_WSW  0.000027\n",
       " \n",
       " [115 rows x 2 columns],\n",
       "           Variable         Cutoff      N  Events  % of Events  Non-Events  \\\n",
       " 0          MinTemp  (-8.501, 4.0]   9984    1264     0.059057        8720   \n",
       " 1          MinTemp     (4.0, 6.6]   9746    1882     0.087932        7864   \n",
       " 2          MinTemp     (6.6, 8.5]   9645    2206     0.103070        7439   \n",
       " 3          MinTemp    (8.5, 10.3]  10076    2329     0.108817        7747   \n",
       " 4          MinTemp   (10.3, 12.0]   9665    2138     0.099893        7527   \n",
       " ..             ...            ...    ...     ...          ...         ...   \n",
       " 1     WindDir3pm_W              1   6870    1720     0.080363        5150   \n",
       " 0   WindDir3pm_WNW              0  91722   19722     0.921460       72000   \n",
       " 1   WindDir3pm_WNW              1   6131    1681     0.078540        4450   \n",
       " 0   WindDir3pm_WSW              0  91377   20008     0.934822       71369   \n",
       " 1   WindDir3pm_WSW              1   6476    1395     0.065178        5081   \n",
       " \n",
       "     % of Non-Events       WoE        IV  \n",
       " 0          0.114061 -0.658232  0.036206  \n",
       " 1          0.102865 -0.156855  0.002342  \n",
       " 2          0.097305  0.057550  0.000332  \n",
       " 3          0.101334  0.071239  0.000533  \n",
       " 4          0.098457  0.014480  0.000021  \n",
       " ..              ...       ...       ...  \n",
       " 1          0.067364  0.176433  0.002293  \n",
       " 0          0.941792 -0.021826  0.000444  \n",
       " 1          0.058208  0.299591  0.006091  \n",
       " 0          0.933538  0.001374  0.000002  \n",
       " 1          0.066462 -0.019508  0.000025  \n",
       " \n",
       " [355 rows x 9 columns])"
      ]
     },
     "execution_count": 343,
     "metadata": {},
     "output_type": "execute_result"
    }
   ],
   "source": [
    "iv_woe(W_train, 'RainTomorrow' , bins=10, show_woe=False)"
   ]
  },
  {
   "cell_type": "code",
   "execution_count": 344,
   "id": "89b720ea",
   "metadata": {},
   "outputs": [],
   "source": [
    "X_train = Xb_train\n",
    "Y_train = Yb_train\n",
    "X_train = X_train.drop(['Temp9am',\n",
    "  'Location_Adelaide',\n",
    "  'Location_Albany',\n",
    "  'Location_Albury',\n",
    "  'Location_AliceSprings',\n",
    "  'Location_BadgerysCreek',\n",
    "  'Location_Ballarat',\n",
    "  'Location_Bendigo',\n",
    "  'Location_Brisbane',\n",
    "  'Location_Cairns',\n",
    "  'Location_Canberra',\n",
    "  'Location_Cobar',\n",
    "  'Location_CoffsHarbour',\n",
    "  'Location_Dartmoor',\n",
    "  'Location_Darwin',\n",
    "  'Location_GoldCoast',\n",
    "  'Location_Hobart',\n",
    "  'Location_Katherine',\n",
    "  'Location_Launceston',\n",
    "  'Location_Melbourne',\n",
    "  'Location_MelbourneAirport',\n",
    "  'Location_Mildura',\n",
    "  'Location_Moree',\n",
    "  'Location_MountGambier',\n",
    "  'Location_MountGinini',\n",
    "  'Location_Newcastle',\n",
    "  'Location_Nhil',\n",
    "  'Location_NorahHead',\n",
    "  'Location_NorfolkIsland',\n",
    "  'Location_Nuriootpa',\n",
    "  'Location_PearceRAAF',\n",
    "  'Location_Penrith',\n",
    "  'Location_Perth',\n",
    "  'Location_PerthAirport',\n",
    "  'Location_Portland',\n",
    "  'Location_Richmond',\n",
    "  'Location_Sale',\n",
    "  'Location_SalmonGums',\n",
    "  'Location_Sydney',\n",
    "  'Location_SydneyAirport',\n",
    "  'Location_Townsville',\n",
    "  'Location_Tuggeranong',\n",
    "  'Location_Uluru',\n",
    "  'Location_WaggaWagga',\n",
    "  'Location_Walpole',\n",
    "  'Location_Watsonia',\n",
    "  'Location_Williamtown',\n",
    "  'Location_Witchcliffe',\n",
    "  'Location_Wollongong',\n",
    "  'Location_Woomera',\n",
    "  'WindGustDir_E',\n",
    "  'WindGustDir_ENE',\n",
    "  'WindGustDir_ESE',\n",
    "  'WindGustDir_N',\n",
    "  'WindGustDir_NE',\n",
    "  'WindGustDir_NNE',\n",
    "  'WindGustDir_NNW',\n",
    "  'WindGustDir_NW',\n",
    "  'WindGustDir_S',\n",
    "  'WindGustDir_SE',\n",
    "  'WindGustDir_SSE',\n",
    "  'WindGustDir_SSW',\n",
    "  'WindGustDir_SW',\n",
    "  'WindGustDir_W',\n",
    "  'WindGustDir_WNW',\n",
    "  'WindGustDir_WSW',\n",
    "  'WindDir9am_E',\n",
    "  'WindDir9am_ENE',\n",
    "  'WindDir9am_ESE',\n",
    "  'WindDir9am_N',\n",
    "  'WindDir9am_NE',\n",
    "  'WindDir9am_NNE',\n",
    "  'WindDir9am_NNW',\n",
    "  'WindDir9am_NW',\n",
    "  'WindDir9am_S',\n",
    "  'WindDir9am_SE',\n",
    "  'WindDir9am_SSE',\n",
    "  'WindDir9am_SSW',\n",
    "  'WindDir9am_SW',\n",
    "  'WindDir9am_W',\n",
    "  'WindDir9am_WNW',\n",
    "  'WindDir9am_WSW',\n",
    "  'WindDir3pm_E',\n",
    "  'WindDir3pm_ENE',\n",
    "  'WindDir3pm_ESE',\n",
    "  'WindDir3pm_N',\n",
    "  'WindDir3pm_NE',\n",
    "  'WindDir3pm_NNE',\n",
    "  'WindDir3pm_NNW',\n",
    "  'WindDir3pm_NW',\n",
    "  'WindDir3pm_S',\n",
    "  'WindDir3pm_SE',\n",
    "  'WindDir3pm_SSE',\n",
    "  'WindDir3pm_SSW',\n",
    "  'WindDir3pm_SW',\n",
    "  'WindDir3pm_W',\n",
    "  'WindDir3pm_WNW',\n",
    "  'WindDir3pm_WSW'],axis=1)\n",
    "x_valid=x_valid.drop(['Temp9am',\n",
    "  'Location_Adelaide',\n",
    "  'Location_Albany',\n",
    "  'Location_Albury',\n",
    "  'Location_AliceSprings',\n",
    "  'Location_BadgerysCreek',\n",
    "  'Location_Ballarat',\n",
    "  'Location_Bendigo',\n",
    "  'Location_Brisbane',\n",
    "  'Location_Cairns',\n",
    "  'Location_Canberra',\n",
    "  'Location_Cobar',\n",
    "  'Location_CoffsHarbour',\n",
    "  'Location_Dartmoor',\n",
    "  'Location_Darwin',\n",
    "  'Location_GoldCoast',\n",
    "  'Location_Hobart',\n",
    "  'Location_Katherine',\n",
    "  'Location_Launceston',\n",
    "  'Location_Melbourne',\n",
    "  'Location_MelbourneAirport',\n",
    "  'Location_Mildura',\n",
    "  'Location_Moree',\n",
    "  'Location_MountGambier',\n",
    "  'Location_MountGinini',\n",
    "  'Location_Newcastle',\n",
    "  'Location_Nhil',\n",
    "  'Location_NorahHead',\n",
    "  'Location_NorfolkIsland',\n",
    "  'Location_Nuriootpa',\n",
    "  'Location_PearceRAAF',\n",
    "  'Location_Penrith',\n",
    "  'Location_Perth',\n",
    "  'Location_PerthAirport',\n",
    "  'Location_Portland',\n",
    "  'Location_Richmond',\n",
    "  'Location_Sale',\n",
    "  'Location_SalmonGums',\n",
    "  'Location_Sydney',\n",
    "  'Location_SydneyAirport',\n",
    "  'Location_Townsville',\n",
    "  'Location_Tuggeranong',\n",
    "  'Location_Uluru',\n",
    "  'Location_WaggaWagga',\n",
    "  'Location_Walpole',\n",
    "  'Location_Watsonia',\n",
    "  'Location_Williamtown',\n",
    "  'Location_Witchcliffe',\n",
    "  'Location_Wollongong',\n",
    "  'Location_Woomera',\n",
    "  'WindGustDir_E',\n",
    "  'WindGustDir_ENE',\n",
    "  'WindGustDir_ESE',\n",
    "  'WindGustDir_N',\n",
    "  'WindGustDir_NE',\n",
    "  'WindGustDir_NNE',\n",
    "  'WindGustDir_NNW',\n",
    "  'WindGustDir_NW',\n",
    "  'WindGustDir_S',\n",
    "  'WindGustDir_SE',\n",
    "  'WindGustDir_SSE',\n",
    "  'WindGustDir_SSW',\n",
    "  'WindGustDir_SW',\n",
    "  'WindGustDir_W',\n",
    "  'WindGustDir_WNW',\n",
    "  'WindGustDir_WSW',\n",
    "  'WindDir9am_E',\n",
    "  'WindDir9am_ENE',\n",
    "  'WindDir9am_ESE',\n",
    "  'WindDir9am_N',\n",
    "  'WindDir9am_NE',\n",
    "  'WindDir9am_NNE',\n",
    "  'WindDir9am_NNW',\n",
    "  'WindDir9am_NW',\n",
    "  'WindDir9am_S',\n",
    "  'WindDir9am_SE',\n",
    "  'WindDir9am_SSE',\n",
    "  'WindDir9am_SSW',\n",
    "  'WindDir9am_SW',\n",
    "  'WindDir9am_W',\n",
    "  'WindDir9am_WNW',\n",
    "  'WindDir9am_WSW',\n",
    "  'WindDir3pm_E',\n",
    "  'WindDir3pm_ENE',\n",
    "  'WindDir3pm_ESE',\n",
    "  'WindDir3pm_N',\n",
    "  'WindDir3pm_NE',\n",
    "  'WindDir3pm_NNE',\n",
    "  'WindDir3pm_NNW',\n",
    "  'WindDir3pm_NW',\n",
    "  'WindDir3pm_S',\n",
    "  'WindDir3pm_SE',\n",
    "  'WindDir3pm_SSE',\n",
    "  'WindDir3pm_SSW',\n",
    "  'WindDir3pm_SW',\n",
    "  'WindDir3pm_W',\n",
    "  'WindDir3pm_WNW',\n",
    "  'WindDir3pm_WSW'],axis=1)"
   ]
  },
  {
   "cell_type": "markdown",
   "id": "a9fc4fb9",
   "metadata": {},
   "source": [
    "#### Dropping Multicollinearity for Logistic Regression Using VIF"
   ]
  },
  {
   "cell_type": "code",
   "execution_count": 345,
   "id": "bd4dc273",
   "metadata": {},
   "outputs": [
    {
     "data": {
      "text/html": [
       "<div>\n",
       "<style scoped>\n",
       "    .dataframe tbody tr th:only-of-type {\n",
       "        vertical-align: middle;\n",
       "    }\n",
       "\n",
       "    .dataframe tbody tr th {\n",
       "        vertical-align: top;\n",
       "    }\n",
       "\n",
       "    .dataframe thead th {\n",
       "        text-align: right;\n",
       "    }\n",
       "</style>\n",
       "<table border=\"1\" class=\"dataframe\">\n",
       "  <thead>\n",
       "    <tr style=\"text-align: right;\">\n",
       "      <th></th>\n",
       "      <th>VIF</th>\n",
       "      <th>variable</th>\n",
       "    </tr>\n",
       "  </thead>\n",
       "  <tbody>\n",
       "    <tr>\n",
       "      <th>0</th>\n",
       "      <td>30073.396066</td>\n",
       "      <td>Intercept</td>\n",
       "    </tr>\n",
       "    <tr>\n",
       "      <th>1</th>\n",
       "      <td>34.599825</td>\n",
       "      <td>MaxTemp</td>\n",
       "    </tr>\n",
       "    <tr>\n",
       "      <th>2</th>\n",
       "      <td>1.424306</td>\n",
       "      <td>Rainfall</td>\n",
       "    </tr>\n",
       "    <tr>\n",
       "      <th>3</th>\n",
       "      <td>1.095717</td>\n",
       "      <td>Evaporation</td>\n",
       "    </tr>\n",
       "    <tr>\n",
       "      <th>4</th>\n",
       "      <td>1.343539</td>\n",
       "      <td>Sunshine</td>\n",
       "    </tr>\n",
       "    <tr>\n",
       "      <th>5</th>\n",
       "      <td>2.039065</td>\n",
       "      <td>WindGustSpeed</td>\n",
       "    </tr>\n",
       "    <tr>\n",
       "      <th>6</th>\n",
       "      <td>1.826166</td>\n",
       "      <td>WindSpeed9am</td>\n",
       "    </tr>\n",
       "    <tr>\n",
       "      <th>7</th>\n",
       "      <td>1.858627</td>\n",
       "      <td>WindSpeed3pm</td>\n",
       "    </tr>\n",
       "    <tr>\n",
       "      <th>8</th>\n",
       "      <td>2.622542</td>\n",
       "      <td>Humidity9am</td>\n",
       "    </tr>\n",
       "    <tr>\n",
       "      <th>9</th>\n",
       "      <td>4.803143</td>\n",
       "      <td>Humidity3pm</td>\n",
       "    </tr>\n",
       "    <tr>\n",
       "      <th>10</th>\n",
       "      <td>18.810052</td>\n",
       "      <td>Pressure9am</td>\n",
       "    </tr>\n",
       "    <tr>\n",
       "      <th>11</th>\n",
       "      <td>18.222636</td>\n",
       "      <td>Pressure3pm</td>\n",
       "    </tr>\n",
       "    <tr>\n",
       "      <th>12</th>\n",
       "      <td>1.541181</td>\n",
       "      <td>Cloud9am</td>\n",
       "    </tr>\n",
       "    <tr>\n",
       "      <th>13</th>\n",
       "      <td>1.626081</td>\n",
       "      <td>Cloud3pm</td>\n",
       "    </tr>\n",
       "    <tr>\n",
       "      <th>14</th>\n",
       "      <td>40.531482</td>\n",
       "      <td>Temp3pm</td>\n",
       "    </tr>\n",
       "    <tr>\n",
       "      <th>15</th>\n",
       "      <td>1.665114</td>\n",
       "      <td>RainToday</td>\n",
       "    </tr>\n",
       "    <tr>\n",
       "      <th>16</th>\n",
       "      <td>5.654082</td>\n",
       "      <td>MinTemp</td>\n",
       "    </tr>\n",
       "  </tbody>\n",
       "</table>\n",
       "</div>"
      ],
      "text/plain": [
       "             VIF       variable\n",
       "0   30073.396066      Intercept\n",
       "1      34.599825        MaxTemp\n",
       "2       1.424306       Rainfall\n",
       "3       1.095717    Evaporation\n",
       "4       1.343539       Sunshine\n",
       "5       2.039065  WindGustSpeed\n",
       "6       1.826166   WindSpeed9am\n",
       "7       1.858627   WindSpeed3pm\n",
       "8       2.622542    Humidity9am\n",
       "9       4.803143    Humidity3pm\n",
       "10     18.810052    Pressure9am\n",
       "11     18.222636    Pressure3pm\n",
       "12      1.541181       Cloud9am\n",
       "13      1.626081       Cloud3pm\n",
       "14     40.531482        Temp3pm\n",
       "15      1.665114      RainToday\n",
       "16      5.654082        MinTemp"
      ]
     },
     "execution_count": 345,
     "metadata": {},
     "output_type": "execute_result"
    }
   ],
   "source": [
    "from patsy import dmatrices\n",
    "from statsmodels.stats.outliers_influence import variance_inflation_factor\n",
    "\n",
    "#find design matrix for linear regression model using 'rating' as response variable \n",
    "y, X = dmatrices('RainTomorrow ~  MaxTemp+ Rainfall+ Evaporation+ Sunshine+ WindGustSpeed+WindSpeed9am+ WindSpeed3pm+ Humidity9am+ Humidity3pm+Pressure9am+Pressure3pm+Cloud9am+Cloud3pm+Temp3pm+RainToday+MinTemp', data=pd.concat([X_train,Y_train],axis=1), return_type='dataframe')\n",
    "\n",
    "#calculate VIF for each explanatory variable\n",
    "vif = pd.DataFrame()\n",
    "vif['VIF'] = [variance_inflation_factor(X.values, i) for i in range(X.shape[1])]\n",
    "vif['variable'] = X.columns\n",
    "\n",
    "#view VIF for each explanatory variable \n",
    "vif"
   ]
  },
  {
   "cell_type": "code",
   "execution_count": 346,
   "id": "8accac10",
   "metadata": {},
   "outputs": [],
   "source": [
    "X_train=X_train.drop(['MaxTemp','Pressure3pm','MinTemp','Humidity9am'],axis=1)\n",
    "x_valid=x_valid.drop(['MaxTemp','Pressure3pm','MinTemp','Humidity9am'],axis=1)"
   ]
  },
  {
   "cell_type": "code",
   "execution_count": 347,
   "id": "f1863f5d",
   "metadata": {},
   "outputs": [
    {
     "name": "stdout",
     "output_type": "stream",
     "text": [
      "Test Recall 0.75037147102526\n",
      "Test F1_score 0.5860593312540799\n",
      "AUROC:  0.7608513539612674\n"
     ]
    }
   ],
   "source": [
    "# Logistic Regression Model fitting\n",
    "\n",
    "log_reg = LogisticRegression()\n",
    "# fit model on training data\n",
    "log_reg.fit(X_train, Y_train)\n",
    "# prediction of y on validation data\n",
    "y_pred = log_reg.predict(x_valid)\n",
    "    \n",
    "print(\"Test Recall\", recall_score(y_valid, y_pred))\n",
    "print(\"Test F1_score\",f1_score(y_valid, y_pred))\n",
    "print(\"AUROC: \", roc_auc_score(y_valid, y_pred))"
   ]
  },
  {
   "cell_type": "markdown",
   "id": "d6f82f32",
   "metadata": {},
   "source": [
    "### Logistic regression model has best performance in this case "
   ]
  },
  {
   "cell_type": "code",
   "execution_count": 348,
   "id": "cde7269e",
   "metadata": {},
   "outputs": [
    {
     "data": {
      "text/plain": [
       "[<matplotlib.lines.Line2D at 0x2390199d070>]"
      ]
     },
     "execution_count": 348,
     "metadata": {},
     "output_type": "execute_result"
    },
    {
     "data": {
      "image/png": "[encoded data removed]",
      "text/plain": [
       "<Figure size 432x288 with 1 Axes>"
      ]
     },
     "metadata": {
      "needs_background": "light"
     },
     "output_type": "display_data"
    }
   ],
   "source": [
    "\n",
    "from sklearn import metrics\n",
    "fpr, tpr, _ = metrics.roc_curve(y_valid, y_pred)\n",
    "\n",
    "#create ROC curve\n",
    "plt.plot(fpr,tpr)"
   ]
  },
  {
   "cell_type": "code",
   "execution_count": 349,
   "id": "8b3d76a0",
   "metadata": {},
   "outputs": [
    {
     "name": "stdout",
     "output_type": "stream",
     "text": [
      "Test Recall for (0.4) threshold = 0.8345096582466568\n",
      "Test F1_score= 0.5600149569986289\n",
      "Test precision score= 0.42140311386231477 \n",
      "\n",
      "Test Recall for (0.42) threshold = 0.8202080237741456\n",
      "Test F1_score= 0.567099011172467\n",
      "Test precision score= 0.4333660451422964 \n",
      "\n",
      "Test Recall for (0.44) threshold = 0.799591381872214\n",
      "Test F1_score= 0.5706521739130433\n",
      "Test precision score= 0.44363149216817804 \n",
      "\n",
      "Test Recall for (0.46) threshold = 0.7864041604754829\n",
      "Test F1_score= 0.5777838427947598\n",
      "Test precision score= 0.45664365832614323 \n",
      "\n",
      "Test Recall for (0.48) threshold = 0.7670876671619614\n",
      "Test F1_score= 0.5805862093203065\n",
      "Test precision score= 0.4670360737306344 \n",
      "\n",
      "Test Recall for (0.5) threshold = 0.75037147102526\n",
      "Test F1_score= 0.5860593312540799\n",
      "Test precision score= 0.4807806735689635 \n",
      "\n",
      "Test Recall for (0.52) threshold = 0.7349554234769688\n",
      "Test F1_score= 0.5916566985645934\n",
      "Test precision score= 0.49512012012012013 \n",
      "\n",
      "Test Recall for (0.54) threshold = 0.7174962852897474\n",
      "Test F1_score= 0.5971556654815272\n",
      "Test precision score= 0.5113846968493513 \n",
      "\n",
      "Test Recall for (0.56) threshold = 0.7030089153046062\n",
      "Test F1_score= 0.6024192264841636\n",
      "Test precision score= 0.5270119743803955 \n",
      "\n",
      "Test Recall for (0.58) threshold = 0.6836924219910847\n",
      "Test F1_score= 0.6053280710409472\n",
      "Test precision score= 0.5430805547359103 \n",
      "\n",
      "Test Recall for (0.6) threshold = 0.6636329866270431\n",
      "Test F1_score= 0.6064154786150713\n",
      "Test precision score= 0.55828125 \n",
      "\n"
     ]
    }
   ],
   "source": [
    "for i in [0.4,0.42,0.44,0.46,0.48,0.5,0.52,0.54,0.56,0.58,0.6]:\n",
    "    THRESHOLD = i\n",
    "    preds = np.where(log_reg.predict_proba(x_valid)[:,1] > THRESHOLD, 1, 0)\n",
    "    print(f\"Test Recall for ({i}) threshold =\", recall_score(y_valid, preds))\n",
    "    print(\"Test F1_score=\",f1_score(y_valid, preds))\n",
    "    print(\"Test precision score=\",precision_score(y_valid, preds),'\\n')"
   ]
  },
  {
   "cell_type": "code",
   "execution_count": null,
   "id": "bf6ea313",
   "metadata": {},
   "outputs": [],
   "source": []
  }
 ],
 "metadata": {
  "kernelspec": {
   "display_name": "Python 3 (ipykernel)",
   "language": "python",
   "name": "python3"
  },
  "language_info": {
   "codemirror_mode": {
    "name": "ipython",
    "version": 3
   },
   "file_extension": ".py",
   "mimetype": "text/x-python",
   "name": "python",
   "nbconvert_exporter": "python",
   "pygments_lexer": "ipython3",
   "version": "3.9.7"
  }
 },
 "nbformat": 4,
 "nbformat_minor": 5
}
